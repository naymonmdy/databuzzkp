{
 "cells": [
  {
   "cell_type": "markdown",
   "id": "7cec2931-ba14-4e35-924a-3d4c4f913d3a",
   "metadata": {},
   "source": [
    "# Python is an Objected Oriented Programming Language"
   ]
  },
  {
   "cell_type": "code",
   "execution_count": null,
   "id": "5749c6d9-a4cc-45f7-9137-7a5cfc54a536",
   "metadata": {},
   "outputs": [],
   "source": [
    "# Object"
   ]
  },
  {
   "cell_type": "code",
   "execution_count": 2,
   "id": "e4041dd1-2185-42b3-9599-1e57ef9a63ba",
   "metadata": {},
   "outputs": [
    {
     "data": {
      "text/plain": [
       "3"
      ]
     },
     "execution_count": 2,
     "metadata": {},
     "output_type": "execute_result"
    }
   ],
   "source": [
    "1+2"
   ]
  },
  {
   "cell_type": "code",
   "execution_count": 3,
   "id": "9ef1e183-d8bd-4eb8-9f73-0c8f6563e27e",
   "metadata": {},
   "outputs": [
    {
     "data": {
      "text/plain": [
       "'Hello'"
      ]
     },
     "execution_count": 3,
     "metadata": {},
     "output_type": "execute_result"
    }
   ],
   "source": [
    "'Hello'"
   ]
  },
  {
   "cell_type": "code",
   "execution_count": 4,
   "id": "d38d63e8-d4d2-4ba8-8e8a-03dd04579674",
   "metadata": {},
   "outputs": [
    {
     "data": {
      "text/plain": [
       "str"
      ]
     },
     "execution_count": 4,
     "metadata": {},
     "output_type": "execute_result"
    }
   ],
   "source": [
    "type('Hello')"
   ]
  },
  {
   "cell_type": "code",
   "execution_count": 5,
   "id": "9a8d6203-1f36-482c-a95b-5a22d7b9b4ae",
   "metadata": {},
   "outputs": [
    {
     "data": {
      "text/plain": [
       "int"
      ]
     },
     "execution_count": 5,
     "metadata": {},
     "output_type": "execute_result"
    }
   ],
   "source": [
    "type(3)"
   ]
  },
  {
   "cell_type": "code",
   "execution_count": 7,
   "id": "932a9295-39a7-4d8c-815e-44bac36e797d",
   "metadata": {},
   "outputs": [
    {
     "data": {
      "text/plain": [
       "'Hello'"
      ]
     },
     "execution_count": 7,
     "metadata": {},
     "output_type": "execute_result"
    }
   ],
   "source": [
    "'hello'.capitalize()"
   ]
  },
  {
   "cell_type": "code",
   "execution_count": 8,
   "id": "49c267f9-e535-45d8-b67c-7e634cf500d8",
   "metadata": {},
   "outputs": [
    {
     "data": {
      "text/plain": [
       "'HELLO'"
      ]
     },
     "execution_count": 8,
     "metadata": {},
     "output_type": "execute_result"
    }
   ],
   "source": [
    "'hello'.upper()"
   ]
  },
  {
   "cell_type": "raw",
   "id": "920268de-8aff-46ed-828f-214608e4690f",
   "metadata": {},
   "source": [
    "# Type of OBjects\n",
    "\n",
    "1.Number Types (Number,float,complex)\n",
    "\n",
    "2.Text (String)\n",
    "\n",
    "3.Sequence Type (list,Tuple,Range,String)\n",
    "\n",
    "4.Set Type\n",
    "\n",
    "5.Mapping (Dict)"
   ]
  },
  {
   "cell_type": "code",
   "execution_count": 9,
   "id": "847d099f-f52a-4b24-a39c-d373799fb8ea",
   "metadata": {},
   "outputs": [],
   "source": [
    "#Data Types\n",
    "#Integer, Float\n",
    "#String\n",
    "#Date , Date and Time\n",
    "#byptes"
   ]
  },
  {
   "cell_type": "markdown",
   "id": "47b74d4a-57b9-4408-b3ba-5b6727f59136",
   "metadata": {},
   "source": [
    "# Variables\n"
   ]
  },
  {
   "cell_type": "code",
   "execution_count": 11,
   "id": "4d3ed1d6-b046-48f5-96f9-3749a4b4d222",
   "metadata": {},
   "outputs": [],
   "source": [
    "a=1"
   ]
  },
  {
   "cell_type": "code",
   "execution_count": 12,
   "id": "51d3fbee-630f-4112-b24d-1c1edac35e64",
   "metadata": {},
   "outputs": [
    {
     "data": {
      "text/plain": [
       "int"
      ]
     },
     "execution_count": 12,
     "metadata": {},
     "output_type": "execute_result"
    }
   ],
   "source": [
    "type(a)"
   ]
  },
  {
   "cell_type": "code",
   "execution_count": 13,
   "id": "7d4d00c5-3160-4eea-bca6-07e8a207c0cf",
   "metadata": {},
   "outputs": [],
   "source": [
    "b=\"Hello\""
   ]
  },
  {
   "cell_type": "code",
   "execution_count": 15,
   "id": "b0a6cafc-894a-4707-9017-2d544b08b719",
   "metadata": {},
   "outputs": [],
   "source": [
    "b=\"Nay\""
   ]
  },
  {
   "cell_type": "code",
   "execution_count": 16,
   "id": "4ceb36a4-0a12-4e49-a3bc-f6f8abed8e43",
   "metadata": {},
   "outputs": [
    {
     "data": {
      "text/plain": [
       "'Nay'"
      ]
     },
     "execution_count": 16,
     "metadata": {},
     "output_type": "execute_result"
    }
   ],
   "source": [
    "b"
   ]
  },
  {
   "cell_type": "code",
   "execution_count": 18,
   "id": "7d78654d-d0bb-4921-a427-dd4835e4e5b6",
   "metadata": {},
   "outputs": [
    {
     "ename": "SyntaxError",
     "evalue": "invalid decimal literal (3146561299.py, line 1)",
     "output_type": "error",
     "traceback": [
      "\u001b[1;36m  Cell \u001b[1;32mIn[18], line 1\u001b[1;36m\u001b[0m\n\u001b[1;33m    1a=\"Hello\"\u001b[0m\n\u001b[1;37m    ^\u001b[0m\n\u001b[1;31mSyntaxError\u001b[0m\u001b[1;31m:\u001b[0m invalid decimal literal\n"
     ]
    }
   ],
   "source": [
    "1a=\"Hello\""
   ]
  },
  {
   "cell_type": "code",
   "execution_count": 19,
   "id": "203a8cbb-1ebb-49f3-b8bf-45de6dcc4ea4",
   "metadata": {},
   "outputs": [],
   "source": [
    "a1=\"Hello\""
   ]
  },
  {
   "cell_type": "markdown",
   "id": "e223bc36-fd80-41a6-ba48-3d2385df272e",
   "metadata": {},
   "source": [
    "# Data Type"
   ]
  },
  {
   "cell_type": "code",
   "execution_count": 20,
   "id": "8e73d725-3002-4ad6-812f-4d24db574761",
   "metadata": {},
   "outputs": [],
   "source": [
    "# 1. Text ()\n",
    "# 2. Number()\n",
    "# 3. Float()\n",
    "# 4. Boolean"
   ]
  },
  {
   "cell_type": "code",
   "execution_count": 21,
   "id": "c04884b9-ce57-4a3e-b4e7-400f3d6a481b",
   "metadata": {},
   "outputs": [],
   "source": [
    "aa = 100"
   ]
  },
  {
   "cell_type": "code",
   "execution_count": 22,
   "id": "71f3ad28-1487-4cdc-8a0a-f4f3e7530ac0",
   "metadata": {},
   "outputs": [
    {
     "data": {
      "text/plain": [
       "b'd'"
      ]
     },
     "execution_count": 22,
     "metadata": {},
     "output_type": "execute_result"
    }
   ],
   "source": [
    "aa.to_bytes()"
   ]
  },
  {
   "cell_type": "code",
   "execution_count": 23,
   "id": "8af34c02-9df2-4c23-a506-9e5c22bd39c9",
   "metadata": {},
   "outputs": [
    {
     "data": {
      "text/plain": [
       "-100"
      ]
     },
     "execution_count": 23,
     "metadata": {},
     "output_type": "execute_result"
    }
   ],
   "source": [
    "-100\n"
   ]
  },
  {
   "cell_type": "code",
   "execution_count": 24,
   "id": "c948a189-523d-42f6-86f3-c159bb81a111",
   "metadata": {},
   "outputs": [
    {
     "data": {
      "text/plain": [
       "int"
      ]
     },
     "execution_count": 24,
     "metadata": {},
     "output_type": "execute_result"
    }
   ],
   "source": [
    "type (-100)"
   ]
  },
  {
   "cell_type": "code",
   "execution_count": 25,
   "id": "849d2334-1bbe-4978-a28a-214d5f850828",
   "metadata": {},
   "outputs": [],
   "source": [
    "# Float (Dec)"
   ]
  },
  {
   "cell_type": "code",
   "execution_count": 26,
   "id": "b51235c5-dcd1-4d40-bb33-dfcb55df40c9",
   "metadata": {},
   "outputs": [],
   "source": [
    "bb = 1.3"
   ]
  },
  {
   "cell_type": "code",
   "execution_count": 27,
   "id": "6d28d469-aaf1-49b1-ae0b-0b64e50bde7d",
   "metadata": {},
   "outputs": [
    {
     "data": {
      "text/plain": [
       "False"
      ]
     },
     "execution_count": 27,
     "metadata": {},
     "output_type": "execute_result"
    }
   ],
   "source": [
    "bb.is_integer()"
   ]
  },
  {
   "cell_type": "code",
   "execution_count": 28,
   "id": "1c53bbf5-5f1d-4c56-89b0-0acdd83c15ef",
   "metadata": {},
   "outputs": [
    {
     "data": {
      "text/plain": [
       "float"
      ]
     },
     "execution_count": 28,
     "metadata": {},
     "output_type": "execute_result"
    }
   ],
   "source": [
    "type(5/10)"
   ]
  },
  {
   "cell_type": "code",
   "execution_count": 29,
   "id": "aa0a748d-7a20-494d-98a7-daa3153a2616",
   "metadata": {},
   "outputs": [
    {
     "data": {
      "text/plain": [
       "False"
      ]
     },
     "execution_count": 29,
     "metadata": {},
     "output_type": "execute_result"
    }
   ],
   "source": [
    "True and False"
   ]
  },
  {
   "cell_type": "code",
   "execution_count": 30,
   "id": "96d0e122-989a-4c02-99be-a6c531449de5",
   "metadata": {},
   "outputs": [
    {
     "data": {
      "text/plain": [
       "False"
      ]
     },
     "execution_count": 30,
     "metadata": {},
     "output_type": "execute_result"
    }
   ],
   "source": [
    "False and True"
   ]
  },
  {
   "cell_type": "code",
   "execution_count": 32,
   "id": "ba2e56f4-00fd-431d-b4af-3f8d42a413a2",
   "metadata": {},
   "outputs": [
    {
     "data": {
      "text/plain": [
       "True"
      ]
     },
     "execution_count": 32,
     "metadata": {},
     "output_type": "execute_result"
    }
   ],
   "source": [
    "True or False"
   ]
  },
  {
   "cell_type": "code",
   "execution_count": 33,
   "id": "23e0d1bf-615b-4560-8e6d-00cbb6f2f024",
   "metadata": {},
   "outputs": [
    {
     "data": {
      "text/plain": [
       "True"
      ]
     },
     "execution_count": 33,
     "metadata": {},
     "output_type": "execute_result"
    }
   ],
   "source": [
    "False or True"
   ]
  },
  {
   "cell_type": "code",
   "execution_count": 34,
   "id": "0de52e78-adaf-4979-a7d3-5041f9fae456",
   "metadata": {},
   "outputs": [
    {
     "name": "stdout",
     "output_type": "stream",
     "text": [
      "1\n"
     ]
    }
   ],
   "source": [
    "print(a)"
   ]
  },
  {
   "cell_type": "code",
   "execution_count": 36,
   "id": "f99895ca-3734-44a6-8a57-98527df52fbf",
   "metadata": {},
   "outputs": [
    {
     "name": "stdout",
     "output_type": "stream",
     "text": [
      "False\n"
     ]
    }
   ],
   "source": [
    "print(False)"
   ]
  },
  {
   "cell_type": "raw",
   "id": "637c67c6-686c-4cf6-bb75-e6f06b98b1cc",
   "metadata": {},
   "source": [
    "Basic Operation and Functions"
   ]
  },
  {
   "cell_type": "code",
   "execution_count": 38,
   "id": "2a4f7026-dbeb-4d88-aff4-35dbc8079a88",
   "metadata": {},
   "outputs": [
    {
     "name": "stdout",
     "output_type": "stream",
     "text": [
      "4\n"
     ]
    }
   ],
   "source": [
    "print (1+3)"
   ]
  },
  {
   "cell_type": "code",
   "execution_count": 39,
   "id": "c1c74046-dc88-4899-956e-8169debab1a8",
   "metadata": {},
   "outputs": [
    {
     "data": {
      "text/plain": [
       "2.0"
      ]
     },
     "execution_count": 39,
     "metadata": {},
     "output_type": "execute_result"
    }
   ],
   "source": [
    "10/5"
   ]
  },
  {
   "cell_type": "code",
   "execution_count": 40,
   "id": "303706a2-0205-454c-b08d-6cfec6ff227b",
   "metadata": {},
   "outputs": [
    {
     "data": {
      "text/plain": [
       "6"
      ]
     },
     "execution_count": 40,
     "metadata": {},
     "output_type": "execute_result"
    }
   ],
   "source": [
    "2 * 3"
   ]
  },
  {
   "cell_type": "code",
   "execution_count": 41,
   "id": "a22e5a35-33e5-44e9-bf06-9140e1dd2e2c",
   "metadata": {},
   "outputs": [
    {
     "data": {
      "text/plain": [
       "2"
      ]
     },
     "execution_count": 41,
     "metadata": {},
     "output_type": "execute_result"
    }
   ],
   "source": [
    "3 -1"
   ]
  },
  {
   "cell_type": "code",
   "execution_count": 42,
   "id": "4ef49c44-cfd0-4718-abca-11c2d146739b",
   "metadata": {},
   "outputs": [
    {
     "data": {
      "text/plain": [
       "8"
      ]
     },
     "execution_count": 42,
     "metadata": {},
     "output_type": "execute_result"
    }
   ],
   "source": [
    "2**3"
   ]
  },
  {
   "cell_type": "code",
   "execution_count": 44,
   "id": "a9e3d21e-6e2f-44fb-8186-3bfe2e1001b9",
   "metadata": {},
   "outputs": [
    {
     "data": {
      "text/plain": [
       "8"
      ]
     },
     "execution_count": 44,
     "metadata": {},
     "output_type": "execute_result"
    }
   ],
   "source": [
    "pow(2,3)"
   ]
  },
  {
   "cell_type": "code",
   "execution_count": 45,
   "id": "760dcc43-0c85-4abb-ab60-5179bf0e8fe5",
   "metadata": {},
   "outputs": [
    {
     "data": {
      "text/plain": [
       "1"
      ]
     },
     "execution_count": 45,
     "metadata": {},
     "output_type": "execute_result"
    }
   ],
   "source": [
    "3%2"
   ]
  },
  {
   "cell_type": "code",
   "execution_count": 46,
   "id": "fd1defff-6c91-46b4-b3bd-d1cca700fe3d",
   "metadata": {},
   "outputs": [
    {
     "data": {
      "text/plain": [
       "2"
      ]
     },
     "execution_count": 46,
     "metadata": {},
     "output_type": "execute_result"
    }
   ],
   "source": [
    "2%3"
   ]
  },
  {
   "cell_type": "code",
   "execution_count": 47,
   "id": "cc4305c0-0a7c-4725-858f-4fcc41f527e2",
   "metadata": {},
   "outputs": [
    {
     "data": {
      "text/plain": [
       "3.5"
      ]
     },
     "execution_count": 47,
     "metadata": {},
     "output_type": "execute_result"
    }
   ],
   "source": [
    "1+(5/2)"
   ]
  },
  {
   "cell_type": "code",
   "execution_count": 48,
   "id": "6457c527-27e9-4ed0-ae6a-bd62f03765e6",
   "metadata": {},
   "outputs": [
    {
     "data": {
      "text/plain": [
       "False"
      ]
     },
     "execution_count": 48,
     "metadata": {},
     "output_type": "execute_result"
    }
   ],
   "source": [
    "1 == 2"
   ]
  },
  {
   "cell_type": "code",
   "execution_count": 49,
   "id": "4bfba144-3026-4aae-9341-eb4846cddf41",
   "metadata": {},
   "outputs": [
    {
     "ename": "SyntaxError",
     "evalue": "invalid syntax (616859357.py, line 1)",
     "output_type": "error",
     "traceback": [
      "\u001b[1;36m  Cell \u001b[1;32mIn[49], line 1\u001b[1;36m\u001b[0m\n\u001b[1;33m    2==='2'\u001b[0m\n\u001b[1;37m       ^\u001b[0m\n\u001b[1;31mSyntaxError\u001b[0m\u001b[1;31m:\u001b[0m invalid syntax\n"
     ]
    }
   ],
   "source": [
    "2==='2'"
   ]
  },
  {
   "cell_type": "code",
   "execution_count": 50,
   "id": "bed50f18-5dd6-46f9-9fa9-96236de7cbf7",
   "metadata": {},
   "outputs": [
    {
     "data": {
      "text/plain": [
       "False"
      ]
     },
     "execution_count": 50,
     "metadata": {},
     "output_type": "execute_result"
    }
   ],
   "source": [
    "'Nay'=='nay'"
   ]
  },
  {
   "cell_type": "code",
   "execution_count": 51,
   "id": "5b4a49e4-f5ec-4214-b2c7-067cf2cf0dba",
   "metadata": {},
   "outputs": [
    {
     "data": {
      "text/plain": [
       "True"
      ]
     },
     "execution_count": 51,
     "metadata": {},
     "output_type": "execute_result"
    }
   ],
   "source": [
    "1 !=2"
   ]
  },
  {
   "cell_type": "markdown",
   "id": "81a8f083-dc13-493d-a99a-7d42c4bd3448",
   "metadata": {},
   "source": [
    "# String Operation"
   ]
  },
  {
   "cell_type": "code",
   "execution_count": 53,
   "id": "092cab44-1fd7-4567-b44f-93a5702a0bfd",
   "metadata": {},
   "outputs": [
    {
     "name": "stdout",
     "output_type": "stream",
     "text": [
      "Hello\n"
     ]
    }
   ],
   "source": [
    "a = \"Hello\"\n",
    "print(a)"
   ]
  },
  {
   "cell_type": "code",
   "execution_count": 54,
   "id": "ab0a1a08-bee5-4565-9544-a5938176e6b0",
   "metadata": {},
   "outputs": [
    {
     "ename": "SyntaxError",
     "evalue": "unterminated string literal (detected at line 1) (3521346088.py, line 1)",
     "output_type": "error",
     "traceback": [
      "\u001b[1;36m  Cell \u001b[1;32mIn[54], line 1\u001b[1;36m\u001b[0m\n\u001b[1;33m    b =\"\"\"\"Hi\"\"\"\"\u001b[0m\n\u001b[1;37m                ^\u001b[0m\n\u001b[1;31mSyntaxError\u001b[0m\u001b[1;31m:\u001b[0m unterminated string literal (detected at line 1)\n"
     ]
    }
   ],
   "source": [
    "b =\"\"\"\"Hi\"\"\"\""
   ]
  },
  {
   "cell_type": "code",
   "execution_count": 55,
   "id": "e970cbe8-00b0-43f9-ab52-3608ec320b0a",
   "metadata": {},
   "outputs": [
    {
     "name": "stdout",
     "output_type": "stream",
     "text": [
      "I dont't know you\n"
     ]
    }
   ],
   "source": [
    "print(\"I dont't know you\")"
   ]
  },
  {
   "cell_type": "code",
   "execution_count": 57,
   "id": "0fd38f94-6d87-4066-bc5c-e871127bd643",
   "metadata": {},
   "outputs": [
    {
     "name": "stdout",
     "output_type": "stream",
     "text": [
      "I dont't know you\n"
     ]
    }
   ],
   "source": [
    "print('I dont\\'t know you')"
   ]
  },
  {
   "cell_type": "code",
   "execution_count": 59,
   "id": "fcaade40-fce5-4c2d-837a-4a672f5ce62f",
   "metadata": {},
   "outputs": [],
   "source": [
    "x= \"Hello\""
   ]
  },
  {
   "cell_type": "code",
   "execution_count": 60,
   "id": "40535a52-2709-426c-bcfe-e49b5bdb33b3",
   "metadata": {},
   "outputs": [],
   "source": [
    "# String is one of sequence type\n",
    "# H e l l o\n",
    "# m y a n m a r"
   ]
  },
  {
   "cell_type": "code",
   "execution_count": 61,
   "id": "f1af631c-9505-43f6-8e60-c021bc8cf194",
   "metadata": {},
   "outputs": [],
   "source": [
    "# Sequence Type have Index"
   ]
  },
  {
   "cell_type": "code",
   "execution_count": 63,
   "id": "ea1fa38d-f281-4167-b5ad-991921a5e741",
   "metadata": {},
   "outputs": [],
   "source": [
    "# H e l l o\n",
    "# H = index 0"
   ]
  },
  {
   "cell_type": "code",
   "execution_count": 64,
   "id": "767f0f0a-fd9b-40aa-9a48-a32b86fca7bb",
   "metadata": {},
   "outputs": [],
   "source": [
    "x = \"Hello\""
   ]
  },
  {
   "cell_type": "code",
   "execution_count": 65,
   "id": "98951565-73d6-4fc3-84d6-406fcb8fde62",
   "metadata": {},
   "outputs": [
    {
     "data": {
      "text/plain": [
       "'H'"
      ]
     },
     "execution_count": 65,
     "metadata": {},
     "output_type": "execute_result"
    }
   ],
   "source": [
    "x[0]"
   ]
  },
  {
   "cell_type": "code",
   "execution_count": 66,
   "id": "f2ff4fdd-4331-4ce2-8d64-39c43ea06f2f",
   "metadata": {},
   "outputs": [
    {
     "data": {
      "text/plain": [
       "'e'"
      ]
     },
     "execution_count": 66,
     "metadata": {},
     "output_type": "execute_result"
    }
   ],
   "source": [
    "x[1]"
   ]
  },
  {
   "cell_type": "code",
   "execution_count": 67,
   "id": "18e13640-cbee-4cdd-8034-a2c53945fdba",
   "metadata": {},
   "outputs": [],
   "source": [
    "# Index\n",
    "# string [start,stop,step]\n"
   ]
  },
  {
   "cell_type": "code",
   "execution_count": 68,
   "id": "df9090ba-e649-4fb9-bed1-59b00ce640e5",
   "metadata": {},
   "outputs": [
    {
     "data": {
      "text/plain": [
       "'He'"
      ]
     },
     "execution_count": 68,
     "metadata": {},
     "output_type": "execute_result"
    }
   ],
   "source": [
    "x[0:2]"
   ]
  },
  {
   "cell_type": "code",
   "execution_count": 69,
   "id": "074a5c32-11e1-4456-9775-fa7de9235f20",
   "metadata": {},
   "outputs": [
    {
     "data": {
      "text/plain": [
       "'Hel'"
      ]
     },
     "execution_count": 69,
     "metadata": {},
     "output_type": "execute_result"
    }
   ],
   "source": [
    "x[0:3]"
   ]
  },
  {
   "cell_type": "code",
   "execution_count": 70,
   "id": "f13e1981-9929-4ac4-8935-63fe0860fddc",
   "metadata": {},
   "outputs": [],
   "source": [
    "c = \"databuzzkp\""
   ]
  },
  {
   "cell_type": "code",
   "execution_count": 71,
   "id": "76589b61-f4d9-4711-9a97-c4fcbdd9a989",
   "metadata": {},
   "outputs": [
    {
     "data": {
      "text/plain": [
       "'buzz'"
      ]
     },
     "execution_count": 71,
     "metadata": {},
     "output_type": "execute_result"
    }
   ],
   "source": [
    "c[4:8]"
   ]
  },
  {
   "cell_type": "code",
   "execution_count": 72,
   "id": "1e8601a6-25aa-40e4-936e-66c97b2f09c2",
   "metadata": {},
   "outputs": [
    {
     "data": {
      "text/plain": [
       "'data'"
      ]
     },
     "execution_count": 72,
     "metadata": {},
     "output_type": "execute_result"
    }
   ],
   "source": [
    "c[0:4:1]"
   ]
  },
  {
   "cell_type": "code",
   "execution_count": 73,
   "id": "427742d4-4600-486c-a2b6-b607f953fc4b",
   "metadata": {},
   "outputs": [
    {
     "data": {
      "text/plain": [
       "'dt'"
      ]
     },
     "execution_count": 73,
     "metadata": {},
     "output_type": "execute_result"
    }
   ],
   "source": [
    "c[0:4:2]"
   ]
  },
  {
   "cell_type": "code",
   "execution_count": 74,
   "id": "b146a585-1a82-4a8b-b920-6d1e5b34c4bb",
   "metadata": {},
   "outputs": [
    {
     "data": {
      "text/plain": [
       "'dtb'"
      ]
     },
     "execution_count": 74,
     "metadata": {},
     "output_type": "execute_result"
    }
   ],
   "source": [
    "c[0:5:2]"
   ]
  },
  {
   "cell_type": "code",
   "execution_count": 75,
   "id": "5f4472ae-f408-4c90-a9ad-6a76443590d3",
   "metadata": {},
   "outputs": [
    {
     "data": {
      "text/plain": [
       "'databuzzkp'"
      ]
     },
     "execution_count": 75,
     "metadata": {},
     "output_type": "execute_result"
    }
   ],
   "source": [
    "c[0::]"
   ]
  },
  {
   "cell_type": "code",
   "execution_count": 76,
   "id": "a1198d2c-3fb9-4762-a748-bf1790baae46",
   "metadata": {},
   "outputs": [
    {
     "data": {
      "text/plain": [
       "'dtbzk'"
      ]
     },
     "execution_count": 76,
     "metadata": {},
     "output_type": "execute_result"
    }
   ],
   "source": [
    "c[0::2]"
   ]
  },
  {
   "cell_type": "markdown",
   "id": "b550e4a7-fc02-4111-a9a6-016af14d56e5",
   "metadata": {},
   "source": [
    "# Reverse Index\n"
   ]
  },
  {
   "cell_type": "code",
   "execution_count": 78,
   "id": "2e85cf0e-bae7-4c2a-a2de-a3ce6b4e98c1",
   "metadata": {},
   "outputs": [],
   "source": [
    "x = \"Hello\""
   ]
  },
  {
   "cell_type": "code",
   "execution_count": 79,
   "id": "c3a0381c-f4ab-4eed-955a-219d72e1bc9a",
   "metadata": {},
   "outputs": [
    {
     "data": {
      "text/plain": [
       "'o'"
      ]
     },
     "execution_count": 79,
     "metadata": {},
     "output_type": "execute_result"
    }
   ],
   "source": [
    "x[-1]"
   ]
  },
  {
   "cell_type": "code",
   "execution_count": 80,
   "id": "4d4ad4d1-af3e-4d2d-a1f7-545ecc220c93",
   "metadata": {},
   "outputs": [
    {
     "data": {
      "text/plain": [
       "'Hell'"
      ]
     },
     "execution_count": 80,
     "metadata": {},
     "output_type": "execute_result"
    }
   ],
   "source": [
    "x[-6:-1]"
   ]
  },
  {
   "cell_type": "code",
   "execution_count": 81,
   "id": "0182b0a9-79c7-4626-95ff-31350eeb264c",
   "metadata": {},
   "outputs": [
    {
     "data": {
      "text/plain": [
       "'olleH'"
      ]
     },
     "execution_count": 81,
     "metadata": {},
     "output_type": "execute_result"
    }
   ],
   "source": [
    "x[::-1]"
   ]
  },
  {
   "cell_type": "markdown",
   "id": "016d9587-38ac-45e3-9c68-7859ffc8503b",
   "metadata": {},
   "source": [
    "# String Built In Function "
   ]
  },
  {
   "cell_type": "code",
   "execution_count": 82,
   "id": "ed556db4-0fa8-405f-95de-5166a0f8b9a8",
   "metadata": {},
   "outputs": [
    {
     "data": {
      "text/plain": [
       "'Hello'"
      ]
     },
     "execution_count": 82,
     "metadata": {},
     "output_type": "execute_result"
    }
   ],
   "source": [
    "x.capitalize()"
   ]
  },
  {
   "cell_type": "code",
   "execution_count": 83,
   "id": "bb814108-3ea7-4c93-803e-7ea29c579bbe",
   "metadata": {},
   "outputs": [
    {
     "data": {
      "text/plain": [
       "False"
      ]
     },
     "execution_count": 83,
     "metadata": {},
     "output_type": "execute_result"
    }
   ],
   "source": [
    "x.isdecimal()"
   ]
  },
  {
   "cell_type": "code",
   "execution_count": 84,
   "id": "bea06f26-8936-4fb0-9444-641b7abbb274",
   "metadata": {},
   "outputs": [
    {
     "data": {
      "text/plain": [
       "2"
      ]
     },
     "execution_count": 84,
     "metadata": {},
     "output_type": "execute_result"
    }
   ],
   "source": [
    "x.count( 'l')"
   ]
  },
  {
   "cell_type": "code",
   "execution_count": 85,
   "id": "1bfa08ac-b58b-4db6-b657-6fa34ad99680",
   "metadata": {},
   "outputs": [
    {
     "data": {
      "text/plain": [
       "4"
      ]
     },
     "execution_count": 85,
     "metadata": {},
     "output_type": "execute_result"
    }
   ],
   "source": [
    "x.index('o')"
   ]
  },
  {
   "cell_type": "code",
   "execution_count": 86,
   "id": "b71110be-62f0-4c9d-be01-4e9b06182e69",
   "metadata": {},
   "outputs": [
    {
     "data": {
      "text/plain": [
       "-1"
      ]
     },
     "execution_count": 86,
     "metadata": {},
     "output_type": "execute_result"
    }
   ],
   "source": [
    "x.find(\"databuzzkp\")"
   ]
  },
  {
   "cell_type": "code",
   "execution_count": 89,
   "id": "51a71f49-c5a0-4e44-ae44-751767865b61",
   "metadata": {},
   "outputs": [
    {
     "data": {
      "text/plain": [
       "-1"
      ]
     },
     "execution_count": 89,
     "metadata": {},
     "output_type": "execute_result"
    }
   ],
   "source": [
    "x.find(\"0\")"
   ]
  },
  {
   "cell_type": "code",
   "execution_count": 90,
   "id": "c20ff383-eac4-4578-b5fc-446b66cb2be1",
   "metadata": {},
   "outputs": [],
   "source": [
    "x=\"databuzzkp\""
   ]
  },
  {
   "cell_type": "code",
   "execution_count": 91,
   "id": "d9bbe6e3-9337-435d-9b8d-d23088d294f3",
   "metadata": {},
   "outputs": [],
   "source": [
    "x = x.replace(\"data\",\"table\")"
   ]
  },
  {
   "cell_type": "code",
   "execution_count": 92,
   "id": "ff90f9a4-95e6-445c-811d-79349423931f",
   "metadata": {},
   "outputs": [
    {
     "data": {
      "text/plain": [
       "'tablebuzzkp'"
      ]
     },
     "execution_count": 92,
     "metadata": {},
     "output_type": "execute_result"
    }
   ],
   "source": [
    "x"
   ]
  },
  {
   "cell_type": "code",
   "execution_count": 93,
   "id": "37be287c-a54e-4513-a7ea-8cffb5e9f090",
   "metadata": {},
   "outputs": [],
   "source": [
    "# Object have mutable and immutable\n",
    "# String is immutable"
   ]
  },
  {
   "cell_type": "code",
   "execution_count": 94,
   "id": "f3430131-5faf-468b-86f3-59cfe4d9556a",
   "metadata": {},
   "outputs": [
    {
     "data": {
      "text/plain": [
       "'tablebuzzkp'"
      ]
     },
     "execution_count": 94,
     "metadata": {},
     "output_type": "execute_result"
    }
   ],
   "source": [
    "x"
   ]
  },
  {
   "cell_type": "code",
   "execution_count": 95,
   "id": "21b55201-c7f2-4b26-b307-b419a157af98",
   "metadata": {},
   "outputs": [
    {
     "ename": "TypeError",
     "evalue": "'str' object does not support item assignment",
     "output_type": "error",
     "traceback": [
      "\u001b[1;31m---------------------------------------------------------------------------\u001b[0m",
      "\u001b[1;31mTypeError\u001b[0m                                 Traceback (most recent call last)",
      "Cell \u001b[1;32mIn[95], line 1\u001b[0m\n\u001b[1;32m----> 1\u001b[0m x[\u001b[38;5;241m0\u001b[39m] \u001b[38;5;241m=\u001b[39m \u001b[38;5;124m\"\u001b[39m\u001b[38;5;124mb\u001b[39m\u001b[38;5;124m\"\u001b[39m\n",
      "\u001b[1;31mTypeError\u001b[0m: 'str' object does not support item assignment"
     ]
    }
   ],
   "source": [
    "x[0] = \"b\""
   ]
  },
  {
   "cell_type": "code",
   "execution_count": 96,
   "id": "cded5430-edbb-4dc4-83fc-b06ff056629c",
   "metadata": {},
   "outputs": [
    {
     "data": {
      "text/plain": [
       "'databuzzkp'"
      ]
     },
     "execution_count": 96,
     "metadata": {},
     "output_type": "execute_result"
    }
   ],
   "source": [
    "x.replace(\"table\",\"data\")"
   ]
  },
  {
   "cell_type": "markdown",
   "id": "aec39fe1-042f-49ae-9a7c-92c5a0f1d5e3",
   "metadata": {},
   "source": [
    "# Object Type"
   ]
  },
  {
   "cell_type": "code",
   "execution_count": 97,
   "id": "657c213b-976e-42aa-b474-9b7e37f09fcb",
   "metadata": {},
   "outputs": [],
   "source": [
    "# 3.Sequence Type (list,Tuple,Range,String)"
   ]
  },
  {
   "cell_type": "raw",
   "id": "09535423-e46c-434d-b15c-ed2e260fd7b1",
   "metadata": {},
   "source": [
    "list is sequence of values , is mutable"
   ]
  },
  {
   "cell_type": "code",
   "execution_count": 98,
   "id": "fc8d7f15-8aa9-4e4a-b2da-afe1edee837c",
   "metadata": {},
   "outputs": [],
   "source": [
    "list=[1,2,3,4]"
   ]
  },
  {
   "cell_type": "code",
   "execution_count": 100,
   "id": "8d6b7224-aabe-4c99-903d-74e62039ced7",
   "metadata": {},
   "outputs": [
    {
     "data": {
      "text/plain": [
       "list"
      ]
     },
     "execution_count": 100,
     "metadata": {},
     "output_type": "execute_result"
    }
   ],
   "source": [
    "type(list)"
   ]
  },
  {
   "cell_type": "code",
   "execution_count": 101,
   "id": "fba3d627-fe3f-4802-87fa-bec06d8eced3",
   "metadata": {},
   "outputs": [],
   "source": [
    "aa =list.copy()"
   ]
  },
  {
   "cell_type": "code",
   "execution_count": 102,
   "id": "1020c1b7-b779-40f7-82e1-954a8173fb28",
   "metadata": {},
   "outputs": [
    {
     "data": {
      "text/plain": [
       "[1, 2, 3, 4]"
      ]
     },
     "execution_count": 102,
     "metadata": {},
     "output_type": "execute_result"
    }
   ],
   "source": [
    "aa"
   ]
  },
  {
   "cell_type": "code",
   "execution_count": 103,
   "id": "85af6f18-7462-4d6a-b382-a4cda2942fb3",
   "metadata": {},
   "outputs": [
    {
     "data": {
      "text/plain": [
       "[1, 2]"
      ]
     },
     "execution_count": 103,
     "metadata": {},
     "output_type": "execute_result"
    }
   ],
   "source": [
    "aa[0:2]"
   ]
  },
  {
   "cell_type": "code",
   "execution_count": 104,
   "id": "f5815232-cbf3-402c-a176-436961189ce0",
   "metadata": {},
   "outputs": [],
   "source": [
    "list2=[1,2,3,4,\"r\",\"b\",True]"
   ]
  },
  {
   "cell_type": "code",
   "execution_count": 105,
   "id": "85f77e0f-b60e-41f3-9e29-92756cc27a96",
   "metadata": {},
   "outputs": [
    {
     "data": {
      "text/plain": [
       "list"
      ]
     },
     "execution_count": 105,
     "metadata": {},
     "output_type": "execute_result"
    }
   ],
   "source": [
    "type(list2)"
   ]
  },
  {
   "cell_type": "code",
   "execution_count": 106,
   "id": "fc2997ea-38ea-4139-99e2-05d064f57bef",
   "metadata": {},
   "outputs": [
    {
     "name": "stdout",
     "output_type": "stream",
     "text": [
      " Volume in drive C is OS\n",
      " Volume Serial Number is D215-09A5\n",
      "\n",
      " Directory of C:\\Users\\PyaePhyoAye\n",
      "\n",
      "07/13/2024  05:56 PM    <DIR>          .\n",
      "02/05/2024  03:07 PM    <DIR>          ..\n",
      "07/13/2024  04:18 PM    <DIR>          .anaconda\n",
      "06/08/2024  05:28 PM                12 .bash_history\n",
      "07/13/2024  05:58 PM    <DIR>          .conda\n",
      "07/13/2024  04:19 PM                25 .condarc\n",
      "07/13/2024  04:18 PM    <DIR>          .continuum\n",
      "06/08/2024  07:11 PM               161 .gitconfig\n",
      "07/13/2024  04:55 PM    <DIR>          .ipynb_checkpoints\n",
      "07/13/2024  04:47 PM    <DIR>          .ipython\n",
      "07/13/2024  04:41 PM    <DIR>          .jupyter\n",
      "06/22/2024  06:13 PM                20 .lesshst\n",
      "06/08/2024  09:57 PM    <DIR>          .ssh\n",
      "06/08/2024  07:12 PM               689 .viminfo\n",
      "07/13/2024  04:18 PM    <DIR>          anaconda3\n",
      "02/05/2024  03:07 PM    <DIR>          Contacts\n",
      "06/15/2024  09:20 PM    <DIR>          Desktop\n",
      "07/13/2024  04:18 PM    <DIR>          Documents\n",
      "07/13/2024  04:09 PM    <DIR>          Downloads\n",
      "02/05/2024  03:07 PM    <DIR>          Favorites\n",
      "07/13/2024  05:56 PM            30,770 lesson1.ipynb\n",
      "02/05/2024  03:07 PM    <DIR>          Links\n",
      "06/08/2024  09:28 AM    <DIR>          Microsoft\n",
      "02/05/2024  03:07 PM    <DIR>          Music\n",
      "02/07/2024  01:00 PM    <DIR>          OneDrive\n",
      "07/13/2024  04:07 PM    <DIR>          OneDrive - International Union Against Tuberculosis and Lung Disease\n",
      "02/15/2024  01:11 PM    <DIR>          Pictures\n",
      "02/05/2024  03:07 PM    <DIR>          Saved Games\n",
      "02/07/2024  08:51 AM    <DIR>          Searches\n",
      "06/04/2024  09:27 AM    <DIR>          Videos\n",
      "               6 File(s)         31,677 bytes\n",
      "              24 Dir(s)  98,104,918,016 bytes free\n"
     ]
    }
   ],
   "source": [
    "ls"
   ]
  },
  {
   "cell_type": "code",
   "execution_count": 1,
   "id": "3e40269f-241b-49cd-a717-23d8191872bc",
   "metadata": {},
   "outputs": [],
   "source": [
    "# List , Tuple,Disce\n",
    "# if logical\n",
    "# loop (for,while)\n",
    "# function\n",
    "# lambda\n",
    "# Numpy\n",
    "# pandas#\n",
    "# Visualization\n"
   ]
  },
  {
   "cell_type": "code",
   "execution_count": 2,
   "id": "3fca2bb6-46f6-4c6b-9870-b8b90fed6cd0",
   "metadata": {},
   "outputs": [],
   "source": [
    "list = [1,2,3,4]"
   ]
  },
  {
   "cell_type": "code",
   "execution_count": 3,
   "id": "fe962d66-1a14-40de-a256-56da63b14728",
   "metadata": {},
   "outputs": [],
   "source": [
    "list2 = [1,2,3,4, \"a\",\"b\"]"
   ]
  },
  {
   "cell_type": "code",
   "execution_count": 4,
   "id": "c66f2afc-8b13-4b6e-b898-7fe18714590a",
   "metadata": {},
   "outputs": [
    {
     "data": {
      "text/plain": [
       "3"
      ]
     },
     "execution_count": 4,
     "metadata": {},
     "output_type": "execute_result"
    }
   ],
   "source": [
    "list[2]"
   ]
  },
  {
   "cell_type": "code",
   "execution_count": 5,
   "id": "f7561cbe-aa1f-4d83-98a8-67bdc8281fb6",
   "metadata": {},
   "outputs": [
    {
     "data": {
      "text/plain": [
       "4"
      ]
     },
     "execution_count": 5,
     "metadata": {},
     "output_type": "execute_result"
    }
   ],
   "source": [
    "list2.index(\"a\")"
   ]
  },
  {
   "cell_type": "code",
   "execution_count": 7,
   "id": "38485069-316f-4bc4-967d-2257761a4366",
   "metadata": {},
   "outputs": [
    {
     "data": {
      "text/plain": [
       "1"
      ]
     },
     "execution_count": 7,
     "metadata": {},
     "output_type": "execute_result"
    }
   ],
   "source": [
    "list2.count('a')"
   ]
  },
  {
   "cell_type": "code",
   "execution_count": 8,
   "id": "f59f082c-8ad4-4e45-8ed8-a321c1544700",
   "metadata": {},
   "outputs": [],
   "source": [
    "list2.insert(2,\"x\")"
   ]
  },
  {
   "cell_type": "code",
   "execution_count": 9,
   "id": "79d2cd6e-662c-4eaa-be79-5471f08f1530",
   "metadata": {},
   "outputs": [
    {
     "data": {
      "text/plain": [
       "[1, 2, 'x', 3, 4, 'a', 'b']"
      ]
     },
     "execution_count": 9,
     "metadata": {},
     "output_type": "execute_result"
    }
   ],
   "source": [
    "list2"
   ]
  },
  {
   "cell_type": "code",
   "execution_count": 10,
   "id": "687a480a-43d4-4692-a981-d23791e408b8",
   "metadata": {},
   "outputs": [],
   "source": [
    "list2.append(10)"
   ]
  },
  {
   "cell_type": "code",
   "execution_count": 11,
   "id": "d0d29865-e8aa-4b80-9ea6-093b18ecf900",
   "metadata": {},
   "outputs": [
    {
     "data": {
      "text/plain": [
       "[1, 2, 'x', 3, 4, 'a', 'b', 10]"
      ]
     },
     "execution_count": 11,
     "metadata": {},
     "output_type": "execute_result"
    }
   ],
   "source": [
    "list2"
   ]
  },
  {
   "cell_type": "code",
   "execution_count": 12,
   "id": "4a84f701-ea83-4f3a-a936-7670d89742f2",
   "metadata": {},
   "outputs": [],
   "source": [
    "list2.remove(\"x\")"
   ]
  },
  {
   "cell_type": "code",
   "execution_count": 13,
   "id": "24aada3d-c3dd-47d8-aaa1-dee6e90a915c",
   "metadata": {},
   "outputs": [
    {
     "data": {
      "text/plain": [
       "[1, 2, 3, 4, 'a', 'b', 10]"
      ]
     },
     "execution_count": 13,
     "metadata": {},
     "output_type": "execute_result"
    }
   ],
   "source": [
    "list2"
   ]
  },
  {
   "cell_type": "code",
   "execution_count": 15,
   "id": "c7afb7f1-5488-4a3c-9e3e-e5037a0f6612",
   "metadata": {},
   "outputs": [],
   "source": [
    "list2.append(3)"
   ]
  },
  {
   "cell_type": "code",
   "execution_count": 16,
   "id": "b7cecb11-4187-4237-91ae-e582e0b50bbd",
   "metadata": {},
   "outputs": [
    {
     "data": {
      "text/plain": [
       "[1, 2, 3, 4, 'a', 'b', 10, 3]"
      ]
     },
     "execution_count": 16,
     "metadata": {},
     "output_type": "execute_result"
    }
   ],
   "source": [
    "list2"
   ]
  },
  {
   "cell_type": "code",
   "execution_count": 17,
   "id": "a82a3ba7-102b-4bd8-af63-72b537a83c87",
   "metadata": {},
   "outputs": [],
   "source": [
    "list2.remove(3)"
   ]
  },
  {
   "cell_type": "code",
   "execution_count": 18,
   "id": "de141acc-bd9d-4bf8-b1f8-f8f0cf070dc2",
   "metadata": {},
   "outputs": [
    {
     "data": {
      "text/plain": [
       "[1, 2, 4, 'a', 'b', 10, 3]"
      ]
     },
     "execution_count": 18,
     "metadata": {},
     "output_type": "execute_result"
    }
   ],
   "source": [
    "list2"
   ]
  },
  {
   "cell_type": "code",
   "execution_count": 19,
   "id": "d4e6998f-a193-4f31-a668-3ac95d83b667",
   "metadata": {},
   "outputs": [
    {
     "data": {
      "text/plain": [
       "3"
      ]
     },
     "execution_count": 19,
     "metadata": {},
     "output_type": "execute_result"
    }
   ],
   "source": [
    "list2.pop()"
   ]
  },
  {
   "cell_type": "code",
   "execution_count": 20,
   "id": "9068f1ac-3114-4907-95db-2f351f0d4007",
   "metadata": {},
   "outputs": [
    {
     "data": {
      "text/plain": [
       "[1, 2, 4, 'a', 'b', 10]"
      ]
     },
     "execution_count": 20,
     "metadata": {},
     "output_type": "execute_result"
    }
   ],
   "source": [
    "list2"
   ]
  },
  {
   "cell_type": "code",
   "execution_count": 22,
   "id": "7fef7583-d159-4d88-8597-9bab15d6e111",
   "metadata": {},
   "outputs": [],
   "source": [
    "list3 =[\"a\", \"b\",\"c\",\"d\"]"
   ]
  },
  {
   "cell_type": "code",
   "execution_count": 23,
   "id": "6e7a52d4-648b-433c-94b4-8fb75df24748",
   "metadata": {},
   "outputs": [],
   "source": [
    "list4=list3.pop(-3)"
   ]
  },
  {
   "cell_type": "code",
   "execution_count": 24,
   "id": "3d09107b-c406-4f2a-a2e1-b5c52f5ead18",
   "metadata": {},
   "outputs": [
    {
     "data": {
      "text/plain": [
       "'b'"
      ]
     },
     "execution_count": 24,
     "metadata": {},
     "output_type": "execute_result"
    }
   ],
   "source": [
    "list4"
   ]
  },
  {
   "cell_type": "code",
   "execution_count": 25,
   "id": "2a120684-59bc-46b2-8de3-eb91f410274b",
   "metadata": {},
   "outputs": [
    {
     "ename": "TypeError",
     "evalue": "'<' not supported between instances of 'str' and 'int'",
     "output_type": "error",
     "traceback": [
      "\u001b[1;31m---------------------------------------------------------------------------\u001b[0m",
      "\u001b[1;31mTypeError\u001b[0m                                 Traceback (most recent call last)",
      "Cell \u001b[1;32mIn[25], line 1\u001b[0m\n\u001b[1;32m----> 1\u001b[0m list2\u001b[38;5;241m.\u001b[39msort()\n",
      "\u001b[1;31mTypeError\u001b[0m: '<' not supported between instances of 'str' and 'int'"
     ]
    }
   ],
   "source": [
    "list2.sort()"
   ]
  },
  {
   "cell_type": "code",
   "execution_count": 26,
   "id": "bbb2ea9e-cafb-4b8b-8fe8-d2cf1f75c449",
   "metadata": {},
   "outputs": [
    {
     "ename": "AttributeError",
     "evalue": "'str' object has no attribute 'append'",
     "output_type": "error",
     "traceback": [
      "\u001b[1;31m---------------------------------------------------------------------------\u001b[0m",
      "\u001b[1;31mAttributeError\u001b[0m                            Traceback (most recent call last)",
      "Cell \u001b[1;32mIn[26], line 1\u001b[0m\n\u001b[1;32m----> 1\u001b[0m list4\u001b[38;5;241m.\u001b[39mappend(list3)\n",
      "\u001b[1;31mAttributeError\u001b[0m: 'str' object has no attribute 'append'"
     ]
    }
   ],
   "source": [
    "list4.append(list3)"
   ]
  },
  {
   "cell_type": "code",
   "execution_count": 27,
   "id": "17dd899a-1ccd-446b-af8e-8bc1eeec8b27",
   "metadata": {},
   "outputs": [],
   "source": [
    "list5=[4,24,232,3,4,322,3,2]"
   ]
  },
  {
   "cell_type": "code",
   "execution_count": 28,
   "id": "a0edd4ef-fb57-40f9-8e75-0022042569be",
   "metadata": {},
   "outputs": [],
   "source": [
    "list5.sort()"
   ]
  },
  {
   "cell_type": "code",
   "execution_count": 29,
   "id": "278a852f-c2bc-4da6-bf2d-e0f186c81b99",
   "metadata": {},
   "outputs": [
    {
     "data": {
      "text/plain": [
       "[2, 3, 3, 4, 4, 24, 232, 322]"
      ]
     },
     "execution_count": 29,
     "metadata": {},
     "output_type": "execute_result"
    }
   ],
   "source": [
    "list5"
   ]
  },
  {
   "cell_type": "code",
   "execution_count": 33,
   "id": "6d5d9a22-626d-4456-b676-5040133669f4",
   "metadata": {},
   "outputs": [
    {
     "ename": "AttributeError",
     "evalue": "'NoneType' object has no attribute 'reverse'",
     "output_type": "error",
     "traceback": [
      "\u001b[1;31m---------------------------------------------------------------------------\u001b[0m",
      "\u001b[1;31mAttributeError\u001b[0m                            Traceback (most recent call last)",
      "Cell \u001b[1;32mIn[33], line 1\u001b[0m\n\u001b[1;32m----> 1\u001b[0m list5\u001b[38;5;241m.\u001b[39mreverse()\n",
      "\u001b[1;31mAttributeError\u001b[0m: 'NoneType' object has no attribute 'reverse'"
     ]
    }
   ],
   "source": [
    "list5.reverse()"
   ]
  },
  {
   "cell_type": "code",
   "execution_count": 35,
   "id": "c81a24ce-5069-4a43-b875-49de5ce6743a",
   "metadata": {},
   "outputs": [],
   "source": [
    "list5"
   ]
  },
  {
   "cell_type": "markdown",
   "id": "5d1a119e-4018-4c33-8868-e95f20b360f1",
   "metadata": {},
   "source": [
    "# Dictionaries Object"
   ]
  },
  {
   "cell_type": "code",
   "execution_count": 36,
   "id": "c7d3424d-bd4c-444e-9a96-3f519db77fd7",
   "metadata": {},
   "outputs": [],
   "source": [
    "dict1 ={\"key1\":\"value1\",\n",
    "        \"key2\":\"value2\"}"
   ]
  },
  {
   "cell_type": "code",
   "execution_count": 37,
   "id": "3ed255f8-64f5-4ba8-9e06-263a9039ca73",
   "metadata": {},
   "outputs": [
    {
     "data": {
      "text/plain": [
       "dict"
      ]
     },
     "execution_count": 37,
     "metadata": {},
     "output_type": "execute_result"
    }
   ],
   "source": [
    "type(dict1)"
   ]
  },
  {
   "cell_type": "code",
   "execution_count": 38,
   "id": "6aabbe03-1216-4a53-8201-bbefcaabc56c",
   "metadata": {},
   "outputs": [],
   "source": [
    "# Dict Built in Function"
   ]
  },
  {
   "cell_type": "code",
   "execution_count": 39,
   "id": "f09392da-a4b6-4780-ba03-3cb2924859c0",
   "metadata": {},
   "outputs": [
    {
     "data": {
      "text/plain": [
       "dict_keys(['key1', 'key2'])"
      ]
     },
     "execution_count": 39,
     "metadata": {},
     "output_type": "execute_result"
    }
   ],
   "source": [
    "dict1.keys()"
   ]
  },
  {
   "cell_type": "code",
   "execution_count": 40,
   "id": "addfe65f-d341-47c3-8f4c-c76216e38179",
   "metadata": {},
   "outputs": [
    {
     "ename": "NameError",
     "evalue": "name 'dict_values' is not defined",
     "output_type": "error",
     "traceback": [
      "\u001b[1;31m---------------------------------------------------------------------------\u001b[0m",
      "\u001b[1;31mNameError\u001b[0m                                 Traceback (most recent call last)",
      "Cell \u001b[1;32mIn[40], line 1\u001b[0m\n\u001b[1;32m----> 1\u001b[0m dict_values()\n",
      "\u001b[1;31mNameError\u001b[0m: name 'dict_values' is not defined"
     ]
    }
   ],
   "source": [
    "dict_values()"
   ]
  },
  {
   "cell_type": "code",
   "execution_count": 41,
   "id": "a372cc5a-2667-4e6c-9688-e38c50ec4974",
   "metadata": {},
   "outputs": [
    {
     "data": {
      "text/plain": [
       "dict_values(['value1', 'value2'])"
      ]
     },
     "execution_count": 41,
     "metadata": {},
     "output_type": "execute_result"
    }
   ],
   "source": [
    "dict1.values()"
   ]
  },
  {
   "cell_type": "code",
   "execution_count": 42,
   "id": "c1ffa377-69d9-4bc6-8845-9928b06586b6",
   "metadata": {},
   "outputs": [],
   "source": [
    "dict2 = {\"apple\":100,\n",
    "         \"orange\":120,\n",
    "         \"mango\":130}"
   ]
  },
  {
   "cell_type": "code",
   "execution_count": 43,
   "id": "1f3d1b9b-0502-46c3-acbd-f311256e15ce",
   "metadata": {},
   "outputs": [
    {
     "data": {
      "text/plain": [
       "dict_keys(['apple', 'orange', 'mango'])"
      ]
     },
     "execution_count": 43,
     "metadata": {},
     "output_type": "execute_result"
    }
   ],
   "source": [
    "dict2.keys()"
   ]
  },
  {
   "cell_type": "code",
   "execution_count": 44,
   "id": "f7a85868-cf05-443e-b61a-ac35ab14cc00",
   "metadata": {},
   "outputs": [
    {
     "data": {
      "text/plain": [
       "dict_values([100, 120, 130])"
      ]
     },
     "execution_count": 44,
     "metadata": {},
     "output_type": "execute_result"
    }
   ],
   "source": [
    "dict2.values()"
   ]
  },
  {
   "cell_type": "code",
   "execution_count": 45,
   "id": "0a517e31-a16d-40a3-9962-b492ab0e6d14",
   "metadata": {},
   "outputs": [
    {
     "data": {
      "text/plain": [
       "130"
      ]
     },
     "execution_count": 45,
     "metadata": {},
     "output_type": "execute_result"
    }
   ],
   "source": [
    "dict2[\"mango\"]"
   ]
  },
  {
   "cell_type": "code",
   "execution_count": 46,
   "id": "dc0ddae5-76f6-4ea2-8f6f-8a86ba1278aa",
   "metadata": {},
   "outputs": [],
   "source": [
    "dict3 = {\"apple\" :{\n",
    "            \"small\":50,\n",
    "            \"large\":60},\n",
    "         \"orange\" :{\n",
    "            \"small\":40,\n",
    "            \"large\":120},\n",
    "}"
   ]
  },
  {
   "cell_type": "code",
   "execution_count": 48,
   "id": "f56a9f43-643e-4787-a9f5-89ba764d0245",
   "metadata": {},
   "outputs": [
    {
     "data": {
      "text/plain": [
       "120"
      ]
     },
     "execution_count": 48,
     "metadata": {},
     "output_type": "execute_result"
    }
   ],
   "source": [
    "dict3[\"orange\"][\"large\"]"
   ]
  },
  {
   "cell_type": "markdown",
   "id": "7faf2db0-a6ce-4907-b405-ecbef69b6e93",
   "metadata": {},
   "source": [
    "# Tuples () simalar with list but immutable in Tuples"
   ]
  },
  {
   "cell_type": "code",
   "execution_count": 50,
   "id": "2b41387b-6a50-4735-aaf7-1938b3a06835",
   "metadata": {},
   "outputs": [],
   "source": [
    "t1=(1,2,3)"
   ]
  },
  {
   "cell_type": "code",
   "execution_count": 51,
   "id": "3fbe00a2-26a4-4ac0-bd2e-97468d766188",
   "metadata": {},
   "outputs": [
    {
     "data": {
      "text/plain": [
       "tuple"
      ]
     },
     "execution_count": 51,
     "metadata": {},
     "output_type": "execute_result"
    }
   ],
   "source": [
    "type(t1)"
   ]
  },
  {
   "cell_type": "code",
   "execution_count": 53,
   "id": "3c98c377-582b-4f1d-af2a-8c0699312957",
   "metadata": {},
   "outputs": [
    {
     "ename": "TypeError",
     "evalue": "'tuple' object does not support item assignment",
     "output_type": "error",
     "traceback": [
      "\u001b[1;31m---------------------------------------------------------------------------\u001b[0m",
      "\u001b[1;31mTypeError\u001b[0m                                 Traceback (most recent call last)",
      "Cell \u001b[1;32mIn[53], line 1\u001b[0m\n\u001b[1;32m----> 1\u001b[0m t1[\u001b[38;5;241m0\u001b[39m]\u001b[38;5;241m=\u001b[39m\u001b[38;5;124m\"\u001b[39m\u001b[38;5;124ma\u001b[39m\u001b[38;5;124m\"\u001b[39m\n",
      "\u001b[1;31mTypeError\u001b[0m: 'tuple' object does not support item assignment"
     ]
    }
   ],
   "source": [
    "t1[0]=\"a\""
   ]
  },
  {
   "cell_type": "markdown",
   "id": "cd6c6535-387d-4825-9feb-7041478be9ec",
   "metadata": {},
   "source": [
    "# Set Object Type with Distinct Count"
   ]
  },
  {
   "cell_type": "code",
   "execution_count": 54,
   "id": "1c2635a3-4285-4147-9c6b-4a41622e1adc",
   "metadata": {},
   "outputs": [],
   "source": [
    "a = {1,2,3,4,5,6,6,6,7}"
   ]
  },
  {
   "cell_type": "code",
   "execution_count": 55,
   "id": "e3f989f5-2b6d-43c4-98cb-91f1b169d5e1",
   "metadata": {},
   "outputs": [
    {
     "data": {
      "text/plain": [
       "{1, 2, 3, 4, 5, 6, 7}"
      ]
     },
     "execution_count": 55,
     "metadata": {},
     "output_type": "execute_result"
    }
   ],
   "source": [
    "a"
   ]
  },
  {
   "cell_type": "code",
   "execution_count": 56,
   "id": "ab11e51c-6611-4bc1-ac87-157e344c7a4d",
   "metadata": {},
   "outputs": [
    {
     "ename": "NameError",
     "evalue": "name 'Set' is not defined",
     "output_type": "error",
     "traceback": [
      "\u001b[1;31m---------------------------------------------------------------------------\u001b[0m",
      "\u001b[1;31mNameError\u001b[0m                                 Traceback (most recent call last)",
      "Cell \u001b[1;32mIn[56], line 1\u001b[0m\n\u001b[1;32m----> 1\u001b[0m Set\n",
      "\u001b[1;31mNameError\u001b[0m: name 'Set' is not defined"
     ]
    }
   ],
   "source": []
  },
  {
   "cell_type": "markdown",
   "id": "557f0a66-4448-4134-a03e-f816e1acdaea",
   "metadata": {},
   "source": [
    "# Range"
   ]
  },
  {
   "cell_type": "code",
   "execution_count": 67,
   "id": "f9846c49-69e8-46f8-8b4a-f0b8d9d9a4ca",
   "metadata": {},
   "outputs": [
    {
     "data": {
      "text/plain": [
       "range(0, 10)"
      ]
     },
     "execution_count": 67,
     "metadata": {},
     "output_type": "execute_result"
    }
   ],
   "source": [
    "range(0,10)"
   ]
  },
  {
   "cell_type": "code",
   "execution_count": 59,
   "id": "d6ffdd20-6677-4465-8550-6f8f1156f795",
   "metadata": {},
   "outputs": [],
   "source": [
    "# 1 to range"
   ]
  },
  {
   "cell_type": "code",
   "execution_count": 65,
   "id": "bbe7f43f-82bb-494d-b795-bdfb597dce63",
   "metadata": {},
   "outputs": [
    {
     "ename": "NameError",
     "evalue": "name 'listd' is not defined",
     "output_type": "error",
     "traceback": [
      "\u001b[1;31m---------------------------------------------------------------------------\u001b[0m",
      "\u001b[1;31mNameError\u001b[0m                                 Traceback (most recent call last)",
      "Cell \u001b[1;32mIn[65], line 1\u001b[0m\n\u001b[1;32m----> 1\u001b[0m listd(\u001b[38;5;28mrange\u001b[39m(\u001b[38;5;241m0\u001b[39m,\u001b[38;5;241m10\u001b[39m))\n",
      "\u001b[1;31mNameError\u001b[0m: name 'listd' is not defined"
     ]
    }
   ],
   "source": [
    "listd(range(0,10))"
   ]
  },
  {
   "cell_type": "code",
   "execution_count": 62,
   "id": "50cc1dea-915f-43ca-9913-81806d46351e",
   "metadata": {},
   "outputs": [
    {
     "data": {
      "text/plain": [
       "range"
      ]
     },
     "execution_count": 62,
     "metadata": {},
     "output_type": "execute_result"
    }
   ],
   "source": []
  },
  {
   "cell_type": "markdown",
   "id": "5bb95179-bd91-4556-9f54-714cf45395c5",
   "metadata": {},
   "source": [
    "# Logical Statment"
   ]
  },
  {
   "cell_type": "code",
   "execution_count": 68,
   "id": "30b127aa-6871-4583-97f0-4d8bc29624b8",
   "metadata": {},
   "outputs": [],
   "source": [
    "# case 1 = val 1 else val\n",
    "# white space\n",
    "\n",
    "# if \"con1\" : result1\n",
    "# elif : result2\n",
    "# else : default result"
   ]
  },
  {
   "cell_type": "code",
   "execution_count": 69,
   "id": "ea549a8b-1a2a-40b2-b176-3c4af21535f8",
   "metadata": {},
   "outputs": [
    {
     "name": "stdout",
     "output_type": "stream",
     "text": [
      "Hello\n"
     ]
    }
   ],
   "source": [
    "if True:\n",
    "    print(\"Hello\")"
   ]
  },
  {
   "cell_type": "code",
   "execution_count": 73,
   "id": "fe6a061d-ba80-4299-92d1-99c88105682d",
   "metadata": {},
   "outputs": [
    {
     "name": "stdout",
     "output_type": "stream",
     "text": [
      "true\n"
     ]
    }
   ],
   "source": [
    "if 2>1: \n",
    "    print(\"true\")"
   ]
  },
  {
   "cell_type": "code",
   "execution_count": 75,
   "id": "392e03e9-5d53-4492-aa31-be14f1f25797",
   "metadata": {},
   "outputs": [
    {
     "name": "stdout",
     "output_type": "stream",
     "text": [
      "Hello 2\n"
     ]
    }
   ],
   "source": [
    "if 2==1:\n",
    "    print(\"Hello 1\")\n",
    "else:\n",
    "    print(\"Hello 2\")"
   ]
  },
  {
   "cell_type": "code",
   "execution_count": 76,
   "id": "6f57ab2a-9236-4b45-ab76-975ffc38f848",
   "metadata": {},
   "outputs": [
    {
     "name": "stdout",
     "output_type": "stream",
     "text": [
      "greater than 1\n"
     ]
    }
   ],
   "source": [
    "if 2>1:\n",
    "    print(\"greater than 1\")\n",
    "elif 2==2:\n",
    "    print(\"equal to\")\n",
    "else:\n",
    "    print(\"Hello 2\")"
   ]
  },
  {
   "cell_type": "code",
   "execution_count": 77,
   "id": "d09bb0a7-8d68-4b1d-b94e-3454e14df99b",
   "metadata": {},
   "outputs": [
    {
     "name": "stdout",
     "output_type": "stream",
     "text": [
      "greater than 1\n"
     ]
    }
   ],
   "source": [
    "a =10\n",
    "b=2/5 \n",
    "if 2>1:\n",
    "    print(\"greater than 1\")\n",
    "elif 2==2:\n",
    "    print(\"equal to\")\n",
    "else:\n",
    "    print(\"Hello 2\")"
   ]
  },
  {
   "cell_type": "raw",
   "id": "1c02e04b-6988-4bfa-b171-344e11e9ec6d",
   "metadata": {},
   "source": [
    "# Breakfast Program"
   ]
  },
  {
   "cell_type": "code",
   "execution_count": 84,
   "id": "ee6691e3-c6ae-4b88-a9f3-9ca7800ae0e2",
   "metadata": {},
   "outputs": [],
   "source": [
    "breakfast = \"tea\""
   ]
  },
  {
   "cell_type": "code",
   "execution_count": 85,
   "id": "8ad1aba3-73c9-4ee1-b27b-a8a6a1148951",
   "metadata": {},
   "outputs": [
    {
     "name": "stdout",
     "output_type": "stream",
     "text": [
      "Your breakfast is tea\n"
     ]
    }
   ],
   "source": [
    "if breakfast == \"Coffee\":\n",
    "    print(f'Your breakfast is {breakfast}')\n",
    "elif breakfast ==\"tea\":\n",
    "     print(f'Your breakfast is {breakfast}')\n",
    "else :\n",
    "    print(\"No breakfast\")"
   ]
  },
  {
   "cell_type": "code",
   "execution_count": 86,
   "id": "a9dbf5a2-bb1e-4e62-b69d-4013888bcf68",
   "metadata": {},
   "outputs": [
    {
     "name": "stdout",
     "output_type": "stream",
     "text": [
      "Your value is 100\n"
     ]
    }
   ],
   "source": [
    "a=100\n",
    "print(f'Your value is {a}')"
   ]
  },
  {
   "cell_type": "code",
   "execution_count": 87,
   "id": "3d7e66c3-8a75-48b7-a290-ba9816d22859",
   "metadata": {},
   "outputs": [
    {
     "ename": "SyntaxError",
     "evalue": "invalid syntax (286779766.py, line 3)",
     "output_type": "error",
     "traceback": [
      "\u001b[1;36m  Cell \u001b[1;32mIn[87], line 3\u001b[1;36m\u001b[0m\n\u001b[1;33m    withdraw=\u001b[0m\n\u001b[1;37m             ^\u001b[0m\n\u001b[1;31mSyntaxError\u001b[0m\u001b[1;31m:\u001b[0m invalid syntax\n"
     ]
    }
   ],
   "source": [
    "# ATM Cash Withdraw\n",
    "deposit =1000\n",
    "withdraw=\n",
    "\n",
    "if withdraw > deposit:\n",
    "    print(\"No Withdraw\")\n",
    "elif withdraw < deposit:\n",
    "     print(\"Withdraw\")\n",
    "else :\n",
    "    print(\"equal withdraw and deposit\")\n",
    "    "
   ]
  },
  {
   "cell_type": "code",
   "execution_count": 88,
   "id": "52e09afc-d1fe-4d35-a3af-bc0721ddf4a3",
   "metadata": {},
   "outputs": [],
   "source": [
    "deposit =1000\n",
    "withdraw=2000"
   ]
  },
  {
   "cell_type": "code",
   "execution_count": 89,
   "id": "3ca627ef-0aa0-4c61-8232-1800232d57ea",
   "metadata": {},
   "outputs": [
    {
     "name": "stdout",
     "output_type": "stream",
     "text": [
      "No Withdraw\n"
     ]
    }
   ],
   "source": [
    "if withdraw > deposit:\n",
    "    print(\"No Withdraw\")\n",
    "elif withdraw < deposit:\n",
    "     print(\"Withdraw\")\n",
    "else :\n",
    "    print(\"equal withdraw and deposit\")"
   ]
  },
  {
   "cell_type": "code",
   "execution_count": 90,
   "id": "8d01b303-31d1-4b0c-a7a4-878389113798",
   "metadata": {},
   "outputs": [
    {
     "name": "stdout",
     "output_type": "stream",
     "text": [
      "No\n"
     ]
    }
   ],
   "source": [
    "a =\"Tea\"\n",
    "if a in breakfast:\n",
    "    print(\"Hello\")\n",
    "else:\n",
    "    print(\"No\")"
   ]
  },
  {
   "cell_type": "code",
   "execution_count": 91,
   "id": "727633b7-5565-4223-8bda-7443f4315ee4",
   "metadata": {},
   "outputs": [],
   "source": [
    "breakfast = [\"Coffee\" ,\"Tea\"]"
   ]
  },
  {
   "cell_type": "code",
   "execution_count": 93,
   "id": "89f57c5a-c58c-4e55-9e71-536d114872cb",
   "metadata": {},
   "outputs": [
    {
     "name": "stdout",
     "output_type": "stream",
     "text": [
      "Yes\n"
     ]
    }
   ],
   "source": [
    "a =\"Tea\"\n",
    "if a in breakfast:\n",
    "    print(\"Yes\")\n",
    "else:\n",
    "    print(\"No\")"
   ]
  },
  {
   "cell_type": "code",
   "execution_count": 95,
   "id": "af358e18-fd5d-4820-9aff-416838948aac",
   "metadata": {},
   "outputs": [],
   "source": [
    "a=\"Hello\""
   ]
  },
  {
   "cell_type": "code",
   "execution_count": 96,
   "id": "70ba0cd6-1111-49ec-a658-a6939d1b9ed6",
   "metadata": {},
   "outputs": [
    {
     "name": "stdout",
     "output_type": "stream",
     "text": [
      "Yes\n"
     ]
    }
   ],
   "source": [
    "if \"e\" in a:\n",
    "    print(\"Yes\")\n",
    "else:\n",
    "    print(\"No\")"
   ]
  },
  {
   "cell_type": "code",
   "execution_count": null,
   "id": "8d104d84-24a1-416b-a8ef-54ac841c87da",
   "metadata": {},
   "outputs": [],
   "source": [
    "x=200"
   ]
  },
  {
   "cell_type": "code",
   "execution_count": 97,
   "id": "9aea9afe-66ca-42cd-bdb4-ee42123aa2ce",
   "metadata": {},
   "outputs": [
    {
     "ename": "NameError",
     "evalue": "name 'x' is not defined",
     "output_type": "error",
     "traceback": [
      "\u001b[1;31m---------------------------------------------------------------------------\u001b[0m",
      "\u001b[1;31mNameError\u001b[0m                                 Traceback (most recent call last)",
      "Cell \u001b[1;32mIn[97], line 1\u001b[0m\n\u001b[1;32m----> 1\u001b[0m \u001b[38;5;28;01mif\u001b[39;00m \u001b[38;5;241m1\u001b[39m \u001b[38;5;129;01min\u001b[39;00m x:\n\u001b[0;32m      2\u001b[0m     \u001b[38;5;28mprint\u001b[39m(\u001b[38;5;124m\"\u001b[39m\u001b[38;5;124mYes\u001b[39m\u001b[38;5;124m\"\u001b[39m)\n\u001b[0;32m      3\u001b[0m \u001b[38;5;28;01melse\u001b[39;00m:\n",
      "\u001b[1;31mNameError\u001b[0m: name 'x' is not defined"
     ]
    }
   ],
   "source": [
    "if 1 in x:\n",
    "    print(\"Yes\")\n",
    "else:\n",
    "    print(\"No\")"
   ]
  },
  {
   "cell_type": "code",
   "execution_count": null,
   "id": "0fba40e3-75e5-4844-bbe6-3dc11e5b7bc7",
   "metadata": {},
   "outputs": [],
   "source": [
    "# in"
   ]
  },
  {
   "cell_type": "markdown",
   "id": "00512e8d-5f40-4b40-a401-dba0d209640b",
   "metadata": {},
   "source": [
    "# LOOP (For , While)"
   ]
  },
  {
   "cell_type": "code",
   "execution_count": null,
   "id": "904f21c6-ab76-472a-9e9d-8d05a5ad371b",
   "metadata": {},
   "outputs": [],
   "source": [
    "# For Loop"
   ]
  },
  {
   "cell_type": "code",
   "execution_count": null,
   "id": "92f13239-85a3-4bd6-b475-fb23fcc85af5",
   "metadata": {},
   "outputs": [],
   "source": [
    "# for name in [object]:\n",
    "# execute >>>> print()"
   ]
  },
  {
   "cell_type": "code",
   "execution_count": 1,
   "id": "653f7654-ae41-419b-b398-33ee2e4b90d6",
   "metadata": {},
   "outputs": [],
   "source": [
    "a = \"hello\""
   ]
  },
  {
   "cell_type": "code",
   "execution_count": 2,
   "id": "7fc85236-9cd0-4358-9596-f796c4c7cb08",
   "metadata": {},
   "outputs": [
    {
     "name": "stdout",
     "output_type": "stream",
     "text": [
      "h\n",
      "e\n",
      "l\n",
      "l\n",
      "o\n"
     ]
    }
   ],
   "source": [
    "for x in a:\n",
    "    print(x)"
   ]
  },
  {
   "cell_type": "code",
   "execution_count": 5,
   "id": "716416d8-bac7-4cb7-be9f-0cbc1138a62f",
   "metadata": {},
   "outputs": [],
   "source": [
    "b = [10,20,30]"
   ]
  },
  {
   "cell_type": "code",
   "execution_count": 6,
   "id": "b37bb6f4-9647-4a6d-8072-a31180fa6815",
   "metadata": {},
   "outputs": [
    {
     "name": "stdout",
     "output_type": "stream",
     "text": [
      "10\n",
      "20\n",
      "30\n"
     ]
    }
   ],
   "source": [
    "for y in b:\n",
    "    print(y)"
   ]
  },
  {
   "cell_type": "code",
   "execution_count": 8,
   "id": "d07b6518-50cc-4d72-96f5-4d80894df8c4",
   "metadata": {},
   "outputs": [
    {
     "data": {
      "text/plain": [
       "[10, 20, 30, 10, 20, 30]"
      ]
     },
     "execution_count": 8,
     "metadata": {},
     "output_type": "execute_result"
    }
   ],
   "source": [
    "b * 2 "
   ]
  },
  {
   "cell_type": "code",
   "execution_count": 10,
   "id": "06b36237-c5ba-43d0-b488-cc4064a1b0c6",
   "metadata": {},
   "outputs": [
    {
     "name": "stdout",
     "output_type": "stream",
     "text": [
      "20\n",
      "40\n",
      "60\n"
     ]
    }
   ],
   "source": [
    "for i in b:\n",
    "    print(i*2)"
   ]
  },
  {
   "cell_type": "code",
   "execution_count": 11,
   "id": "2bd8a429-cee0-4852-9b63-b6fd292bc0d6",
   "metadata": {},
   "outputs": [
    {
     "data": {
      "text/plain": [
       "[10, 20, 30]"
      ]
     },
     "execution_count": 11,
     "metadata": {},
     "output_type": "execute_result"
    }
   ],
   "source": [
    "b"
   ]
  },
  {
   "cell_type": "code",
   "execution_count": 22,
   "id": "e6d7710f-4b91-4944-8730-53a811b7c6c4",
   "metadata": {},
   "outputs": [],
   "source": [
    "d= [1,2,34,\"a\",\"b\",10,\"c\"]"
   ]
  },
  {
   "cell_type": "code",
   "execution_count": 23,
   "id": "b1b83bdf-1099-463a-a505-f758b3ea7686",
   "metadata": {},
   "outputs": [
    {
     "name": "stdout",
     "output_type": "stream",
     "text": [
      "1\n",
      "2\n",
      "34\n",
      "a\n",
      "b\n",
      "10\n",
      "c\n"
     ]
    }
   ],
   "source": [
    "for i in d:\n",
    "   print(i)"
   ]
  },
  {
   "cell_type": "code",
   "execution_count": 26,
   "id": "8e678d59-d983-496d-a8ed-b5462f6ff5bb",
   "metadata": {},
   "outputs": [
    {
     "data": {
      "text/plain": [
       "range(0, 10)"
      ]
     },
     "execution_count": 26,
     "metadata": {},
     "output_type": "execute_result"
    }
   ],
   "source": [
    "range(0,10)"
   ]
  },
  {
   "cell_type": "code",
   "execution_count": 25,
   "id": "27654b49-22e9-4436-ab16-6b011309697e",
   "metadata": {},
   "outputs": [
    {
     "ename": "SyntaxError",
     "evalue": "expected ':' (2075205966.py, line 1)",
     "output_type": "error",
     "traceback": [
      "\u001b[1;36m  Cell \u001b[1;32mIn[25], line 1\u001b[1;36m\u001b[0m\n\u001b[1;33m    for i in range(0,10)\u001b[0m\n\u001b[1;37m                        ^\u001b[0m\n\u001b[1;31mSyntaxError\u001b[0m\u001b[1;31m:\u001b[0m expected ':'\n"
     ]
    }
   ],
   "source": [
    "for i in range(0,10)\n",
    "    print(i)"
   ]
  },
  {
   "cell_type": "code",
   "execution_count": 1,
   "id": "96ca3060-d61b-4e01-8749-7c70a35ee8a8",
   "metadata": {},
   "outputs": [
    {
     "ename": "NameError",
     "evalue": "name 'df5' is not defined",
     "output_type": "error",
     "traceback": [
      "\u001b[1;31m---------------------------------------------------------------------------\u001b[0m",
      "\u001b[1;31mNameError\u001b[0m                                 Traceback (most recent call last)",
      "Cell \u001b[1;32mIn[1], line 1\u001b[0m\n\u001b[1;32m----> 1\u001b[0m df5\n",
      "\u001b[1;31mNameError\u001b[0m: name 'df5' is not defined"
     ]
    }
   ],
   "source": [
    "df5"
   ]
  },
  {
   "cell_type": "code",
   "execution_count": null,
   "id": "f72c438a-6c75-424d-a2c0-e86c88373119",
   "metadata": {},
   "outputs": [],
   "source": []
  }
 ],
 "metadata": {
  "kernelspec": {
   "display_name": "Python 3 (ipykernel)",
   "language": "python",
   "name": "python3"
  },
  "language_info": {
   "codemirror_mode": {
    "name": "ipython",
    "version": 3
   },
   "file_extension": ".py",
   "mimetype": "text/x-python",
   "name": "python",
   "nbconvert_exporter": "python",
   "pygments_lexer": "ipython3",
   "version": "3.11.7"
  }
 },
 "nbformat": 4,
 "nbformat_minor": 5
}
