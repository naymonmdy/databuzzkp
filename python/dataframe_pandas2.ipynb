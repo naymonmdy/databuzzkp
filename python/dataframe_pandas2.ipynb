{
 "cells": [
  {
   "cell_type": "code",
   "execution_count": 1,
   "id": "6e1a9514-69df-4396-a2c8-dc873da70c32",
   "metadata": {},
   "outputs": [],
   "source": [
    "#Type Of Object\n",
    "#Sequence Object = List,Tuple,set"
   ]
  },
  {
   "cell_type": "code",
   "execution_count": 2,
   "id": "c7db7141-6286-4f06-b1e9-a75b4fa91d17",
   "metadata": {},
   "outputs": [],
   "source": [
    "#User Function"
   ]
  },
  {
   "cell_type": "code",
   "execution_count": 3,
   "id": "184cc02d-96cd-4142-ab80-6ddd5e3c7fa6",
   "metadata": {},
   "outputs": [],
   "source": [
    "list = [100,200,300]"
   ]
  },
  {
   "cell_type": "code",
   "execution_count": 4,
   "id": "a3898b64-390f-4fd5-8f20-35d117408a11",
   "metadata": {},
   "outputs": [],
   "source": [
    "def function1(a):\n",
    "    print(a)"
   ]
  },
  {
   "cell_type": "code",
   "execution_count": 5,
   "id": "43057521-8204-45cf-ab0c-e4ea682370cc",
   "metadata": {},
   "outputs": [
    {
     "name": "stdout",
     "output_type": "stream",
     "text": [
      "Hello\n"
     ]
    }
   ],
   "source": [
    "function1('Hello')"
   ]
  },
  {
   "cell_type": "code",
   "execution_count": null,
   "id": "12bbb082-6a27-4c6a-ac87-952a83f687fe",
   "metadata": {},
   "outputs": [],
   "source": [
    "def function1(a):\n",
    "    print(a)"
   ]
  },
  {
   "cell_type": "code",
   "execution_count": 6,
   "id": "45725514-0c9a-48b3-bd96-339b68881fde",
   "metadata": {},
   "outputs": [],
   "source": [
    "# Function print, return ???"
   ]
  },
  {
   "cell_type": "code",
   "execution_count": 7,
   "id": "3e1d0eb0-738f-453d-a36d-135b73681464",
   "metadata": {},
   "outputs": [],
   "source": [
    "def function3(x):\n",
    "    for i in x:\n",
    "    return (x.upper())\n",
    "    "
   ]
  },
  {
   "cell_type": "code",
   "execution_count": null,
   "id": "a4e36014-8d5b-4e7f-89f5-5ab93bc30fd9",
   "metadata": {},
   "outputs": [],
   "source": [
    "def function4(x):\n",
    "    return (x.upper())"
   ]
  },
  {
   "cell_type": "code",
   "execution_count": null,
   "id": "ae9ba991-122f-4fcf-9c22-28cc3e210470",
   "metadata": {},
   "outputs": [],
   "source": []
  },
  {
   "cell_type": "code",
   "execution_count": null,
   "id": "d89b15a3-b047-4530-9854-11403697d8b1",
   "metadata": {},
   "outputs": [],
   "source": [
    "list = ['hello','a','greeting']"
   ]
  },
  {
   "cell_type": "markdown",
   "id": "b1bbada5-0584-40e4-95a3-3a705d793a1a",
   "metadata": {},
   "source": [
    "# Map , Filter and Zip and List"
   ]
  },
  {
   "cell_type": "code",
   "execution_count": 8,
   "id": "b2d5cad6-c710-4456-bd96-41136223e986",
   "metadata": {},
   "outputs": [
    {
     "name": "stdout",
     "output_type": "stream",
     "text": [
      "0\n",
      "1\n",
      "2\n",
      "3\n",
      "4\n",
      "5\n",
      "6\n",
      "7\n",
      "8\n",
      "9\n"
     ]
    }
   ],
   "source": [
    "for i in range(0,10):\n",
    "    print(i)"
   ]
  },
  {
   "cell_type": "code",
   "execution_count": 10,
   "id": "3c17ce27-9dd9-4266-a03c-1f2801ba96d5",
   "metadata": {},
   "outputs": [],
   "source": [
    "list =[1,2,3,4,5,6,7,8,9,10]"
   ]
  },
  {
   "cell_type": "code",
   "execution_count": 11,
   "id": "eab980a2-f44d-4520-b510-fe09af4504b7",
   "metadata": {},
   "outputs": [
    {
     "ename": "TypeError",
     "evalue": "'list' object is not callable",
     "output_type": "error",
     "traceback": [
      "\u001b[1;31m---------------------------------------------------------------------------\u001b[0m",
      "\u001b[1;31mTypeError\u001b[0m                                 Traceback (most recent call last)",
      "Cell \u001b[1;32mIn[11], line 1\u001b[0m\n\u001b[1;32m----> 1\u001b[0m \u001b[38;5;28mlist\u001b[39m(\u001b[38;5;28mrange\u001b[39m(\u001b[38;5;241m0\u001b[39m,\u001b[38;5;241m10\u001b[39m))\n",
      "\u001b[1;31mTypeError\u001b[0m: 'list' object is not callable"
     ]
    }
   ],
   "source": [
    "list(range(0,10))"
   ]
  },
  {
   "cell_type": "code",
   "execution_count": 12,
   "id": "cde4e00f-0bc7-4226-bfee-2352296d63f6",
   "metadata": {},
   "outputs": [],
   "source": [
    "list1 = [100,200,300]"
   ]
  },
  {
   "cell_type": "code",
   "execution_count": 13,
   "id": "db9ab655-68c3-40a7-826b-d0d66d0d0bbf",
   "metadata": {},
   "outputs": [],
   "source": [
    "list2 = ['a','b','c']"
   ]
  },
  {
   "cell_type": "code",
   "execution_count": 14,
   "id": "e61753b3-a049-4fa2-b796-604ccd7cfd6b",
   "metadata": {},
   "outputs": [
    {
     "data": {
      "text/plain": [
       "<zip at 0x1fa456899c0>"
      ]
     },
     "execution_count": 14,
     "metadata": {},
     "output_type": "execute_result"
    }
   ],
   "source": [
    "zip(list1,list2)"
   ]
  },
  {
   "cell_type": "code",
   "execution_count": 15,
   "id": "2c5200f6-9013-4dbb-991a-acf3d0491ecc",
   "metadata": {},
   "outputs": [
    {
     "name": "stdout",
     "output_type": "stream",
     "text": [
      "(100, 'a')\n",
      "(200, 'b')\n",
      "(300, 'c')\n"
     ]
    }
   ],
   "source": [
    "for i in zip(list1,list2):\n",
    "    print(i)"
   ]
  },
  {
   "cell_type": "code",
   "execution_count": 17,
   "id": "3edb9b5b-d3cc-47aa-87ba-64b8f52baa17",
   "metadata": {},
   "outputs": [],
   "source": [
    "def mutltiply(x):\n",
    "    return x*2;"
   ]
  },
  {
   "cell_type": "code",
   "execution_count": 21,
   "id": "b1db6ff2-1255-4dd7-8936-1a299d79d1e2",
   "metadata": {},
   "outputs": [
    {
     "name": "stdout",
     "output_type": "stream",
     "text": [
      "200\n",
      "400\n",
      "600\n"
     ]
    }
   ],
   "source": [
    "for i in map(mutltiply,list1):\n",
    "    print(i)"
   ]
  },
  {
   "cell_type": "code",
   "execution_count": 22,
   "id": "e8af4c04-909c-4650-a85e-2b8ea0591e3d",
   "metadata": {},
   "outputs": [],
   "source": [
    "# def upper(1): return x.upper()"
   ]
  },
  {
   "cell_type": "code",
   "execution_count": 24,
   "id": "520e90f3-ee1d-41cc-8d9b-e6697411e52a",
   "metadata": {},
   "outputs": [],
   "source": [
    "def upper2(x):return x.upper()\n",
    "    "
   ]
  },
  {
   "cell_type": "code",
   "execution_count": 26,
   "id": "c72fd968-4bef-45b0-a7c1-dd5a84150a8d",
   "metadata": {},
   "outputs": [
    {
     "data": {
      "text/plain": [
       "'HELLO'"
      ]
     },
     "execution_count": 26,
     "metadata": {},
     "output_type": "execute_result"
    }
   ],
   "source": [
    "upper2('hello')"
   ]
  },
  {
   "cell_type": "markdown",
   "id": "d4060981-d0d9-4b7c-b16a-c65973ad22f7",
   "metadata": {},
   "source": [
    "# Lambda Function"
   ]
  },
  {
   "cell_type": "code",
   "execution_count": 29,
   "id": "360fa78c-7e76-4174-8860-fd358beaea6f",
   "metadata": {},
   "outputs": [],
   "source": [
    "a = lambda x:x*2"
   ]
  },
  {
   "cell_type": "code",
   "execution_count": 31,
   "id": "ae80a957-a98f-4d6f-b9fd-c03700a3a1e5",
   "metadata": {},
   "outputs": [
    {
     "data": {
      "text/plain": [
       "6"
      ]
     },
     "execution_count": 31,
     "metadata": {},
     "output_type": "execute_result"
    }
   ],
   "source": [
    "a(3)"
   ]
  },
  {
   "cell_type": "code",
   "execution_count": 33,
   "id": "de480956-2e06-41cc-b587-810fc8034207",
   "metadata": {},
   "outputs": [
    {
     "data": {
      "text/plain": [
       "[1, 2, 3, 4, 5, 6, 7, 8, 9, 10]"
      ]
     },
     "execution_count": 33,
     "metadata": {},
     "output_type": "execute_result"
    }
   ],
   "source": [
    "list"
   ]
  },
  {
   "cell_type": "code",
   "execution_count": 37,
   "id": "f10bf1aa-cc36-4d89-ba6b-175afa5136ba",
   "metadata": {},
   "outputs": [
    {
     "ename": "TypeError",
     "evalue": "'list' object is not callable",
     "output_type": "error",
     "traceback": [
      "\u001b[1;31m---------------------------------------------------------------------------\u001b[0m",
      "\u001b[1;31mTypeError\u001b[0m                                 Traceback (most recent call last)",
      "Cell \u001b[1;32mIn[37], line 1\u001b[0m\n\u001b[1;32m----> 1\u001b[0m \u001b[38;5;28mlist\u001b[39m(\u001b[38;5;28mmap\u001b[39m(\u001b[38;5;28;01mlambda\u001b[39;00m x: x \u001b[38;5;241m*\u001b[39m \u001b[38;5;241m3\u001b[39m,\u001b[38;5;28mlist\u001b[39m))\n",
      "\u001b[1;31mTypeError\u001b[0m: 'list' object is not callable"
     ]
    }
   ],
   "source": [
    "list(map(lambda x: x * 3,list))"
   ]
  },
  {
   "cell_type": "code",
   "execution_count": 41,
   "id": "a23eb9b8-ba3b-4c7f-b2dc-185ad534e6ec",
   "metadata": {},
   "outputs": [
    {
     "ename": "TypeError",
     "evalue": "'list' object is not callable",
     "output_type": "error",
     "traceback": [
      "\u001b[1;31m---------------------------------------------------------------------------\u001b[0m",
      "\u001b[1;31mTypeError\u001b[0m                                 Traceback (most recent call last)",
      "Cell \u001b[1;32mIn[41], line 1\u001b[0m\n\u001b[1;32m----> 1\u001b[0m \u001b[38;5;28mlist\u001b[39m(\u001b[38;5;28mmap\u001b[39m(\u001b[38;5;28;01mlambda\u001b[39;00m a: \u001b[38;5;124m'\u001b[39m\u001b[38;5;124mOVer 5\u001b[39m\u001b[38;5;124m'\u001b[39m \u001b[38;5;28;01mif\u001b[39;00m a\u001b[38;5;241m>\u001b[39m \u001b[38;5;241m5\u001b[39m \u001b[38;5;28;01melse\u001b[39;00m \u001b[38;5;124m'\u001b[39m\u001b[38;5;124mnormal\u001b[39m\u001b[38;5;124m'\u001b[39m, \u001b[38;5;28mlist\u001b[39m))\n",
      "\u001b[1;31mTypeError\u001b[0m: 'list' object is not callable"
     ]
    }
   ],
   "source": [
    "list(map(lambda a: 'OVer 5' if a> 5 else 'normal', list))"
   ]
  },
  {
   "cell_type": "code",
   "execution_count": 63,
   "id": "6c892670-da08-4ef9-91e1-d7cb0bf3dead",
   "metadata": {},
   "outputs": [
    {
     "ename": "TypeError",
     "evalue": "'list' object is not callable",
     "output_type": "error",
     "traceback": [
      "\u001b[1;31m---------------------------------------------------------------------------\u001b[0m",
      "\u001b[1;31mTypeError\u001b[0m                                 Traceback (most recent call last)",
      "Cell \u001b[1;32mIn[63], line 5\u001b[0m\n\u001b[0;32m      2\u001b[0m numbers \u001b[38;5;241m=\u001b[39m [\u001b[38;5;241m1\u001b[39m, \u001b[38;5;241m3\u001b[39m, \u001b[38;5;241m7\u001b[39m, \u001b[38;5;241m9\u001b[39m, \u001b[38;5;241m4\u001b[39m, \u001b[38;5;241m5\u001b[39m]\n\u001b[0;32m      4\u001b[0m \u001b[38;5;66;03m# Use map with a lambda function\u001b[39;00m\n\u001b[1;32m----> 5\u001b[0m result \u001b[38;5;241m=\u001b[39m numbers(\u001b[38;5;28mmap\u001b[39m(\u001b[38;5;28;01mlambda\u001b[39;00m a: \u001b[38;5;124m'\u001b[39m\u001b[38;5;124mOver 5\u001b[39m\u001b[38;5;124m'\u001b[39m \u001b[38;5;28;01mif\u001b[39;00m a \u001b[38;5;241m>\u001b[39m \u001b[38;5;241m5\u001b[39m \u001b[38;5;28;01melse\u001b[39;00m \u001b[38;5;124m'\u001b[39m\u001b[38;5;124mnormal\u001b[39m\u001b[38;5;124m'\u001b[39m, numbers))\n\u001b[0;32m      7\u001b[0m \u001b[38;5;28mprint\u001b[39m(result)\n",
      "\u001b[1;31mTypeError\u001b[0m: 'list' object is not callable"
     ]
    }
   ],
   "source": [
    "# Define your list of numbers\n",
    "numbers = [1, 3, 7, 9, 4, 5]\n",
    "\n",
    "# Use map with a lambda function\n",
    "result = numbers(map(lambda a: 'Over 5' if a > 5 else 'normal', numbers))\n",
    "\n",
    "print(result)\n"
   ]
  },
  {
   "cell_type": "code",
   "execution_count": 43,
   "id": "c0deec61-9fa2-499a-92ec-d18ee9c13f23",
   "metadata": {},
   "outputs": [],
   "source": [
    "#Data analysis\n",
    "#Numpy\n",
    "#Pandas\n",
    "#Matiplots\n",
    "#Seaborn\n",
    "\n",
    "#Data Science\n",
    "#sickilearn\n",
    "#tensorflow"
   ]
  },
  {
   "cell_type": "code",
   "execution_count": 42,
   "id": "62d9c386-637f-4214-833e-429a17e007ce",
   "metadata": {},
   "outputs": [
    {
     "data": {
      "text/plain": [
       "[1, 2, 3, 4, 5, 6, 7, 8, 9, 10]"
      ]
     },
     "execution_count": 42,
     "metadata": {},
     "output_type": "execute_result"
    }
   ],
   "source": [
    "list\n"
   ]
  },
  {
   "cell_type": "markdown",
   "id": "cf3aa0c1-d40e-43d3-a5ff-39ce59298945",
   "metadata": {},
   "source": [
    "# Numpy"
   ]
  },
  {
   "cell_type": "code",
   "execution_count": 46,
   "id": "d3150b3a-f276-4754-8ce5-7ce25013c8c7",
   "metadata": {},
   "outputs": [
    {
     "name": "stdout",
     "output_type": "stream",
     "text": [
      "Requirement already satisfied: numpy in c:\\users\\pyaephyoaye\\anaconda3\\lib\\site-packages (1.26.4)\n"
     ]
    }
   ],
   "source": [
    "!pip install numpy"
   ]
  },
  {
   "cell_type": "code",
   "execution_count": 47,
   "id": "43bec460-e9d1-4017-ac96-520d8568ff8f",
   "metadata": {},
   "outputs": [
    {
     "name": "stderr",
     "output_type": "stream",
     "text": [
      "ERROR: Could not find a version that satisfies the requirement padas (from versions: none)\n",
      "ERROR: No matching distribution found for padas\n"
     ]
    }
   ],
   "source": [
    "!pip install padas"
   ]
  },
  {
   "cell_type": "code",
   "execution_count": 48,
   "id": "b807d577-8cd0-4f79-9d46-f7e4d65d987a",
   "metadata": {},
   "outputs": [],
   "source": [
    "import numpy as np"
   ]
  },
  {
   "cell_type": "code",
   "execution_count": 49,
   "id": "cd2356b5-8534-4c7b-9e1e-5bec29e642e1",
   "metadata": {},
   "outputs": [
    {
     "name": "stdout",
     "output_type": "stream",
     "text": [
      "Requirement already satisfied: pandas in c:\\users\\pyaephyoaye\\anaconda3\\lib\\site-packages (2.1.4)\n",
      "Requirement already satisfied: numpy<2,>=1.23.2 in c:\\users\\pyaephyoaye\\anaconda3\\lib\\site-packages (from pandas) (1.26.4)\n",
      "Requirement already satisfied: python-dateutil>=2.8.2 in c:\\users\\pyaephyoaye\\anaconda3\\lib\\site-packages (from pandas) (2.8.2)\n",
      "Requirement already satisfied: pytz>=2020.1 in c:\\users\\pyaephyoaye\\anaconda3\\lib\\site-packages (from pandas) (2023.3.post1)\n",
      "Requirement already satisfied: tzdata>=2022.1 in c:\\users\\pyaephyoaye\\anaconda3\\lib\\site-packages (from pandas) (2023.3)\n",
      "Requirement already satisfied: six>=1.5 in c:\\users\\pyaephyoaye\\anaconda3\\lib\\site-packages (from python-dateutil>=2.8.2->pandas) (1.16.0)\n"
     ]
    }
   ],
   "source": [
    "!pip install pandas"
   ]
  },
  {
   "cell_type": "code",
   "execution_count": 50,
   "id": "12a235e5-e261-42e3-8be5-767d836e1d78",
   "metadata": {},
   "outputs": [],
   "source": [
    "import pandas as pd"
   ]
  },
  {
   "cell_type": "markdown",
   "id": "629b173d-be3a-4ae5-89be-15ec0b0c0321",
   "metadata": {},
   "source": [
    "# What is array ?? 1 Demenstional Array"
   ]
  },
  {
   "cell_type": "code",
   "execution_count": 52,
   "id": "2e59fdd8-378b-4438-9701-b7979d628421",
   "metadata": {},
   "outputs": [],
   "source": [
    "numberlist=[1,2,3,4,5]"
   ]
  },
  {
   "cell_type": "code",
   "execution_count": 53,
   "id": "6bd167de-15e0-4852-8438-079bbc306153",
   "metadata": {},
   "outputs": [
    {
     "data": {
      "text/plain": [
       "list"
      ]
     },
     "execution_count": 53,
     "metadata": {},
     "output_type": "execute_result"
    }
   ],
   "source": [
    "type(list)"
   ]
  },
  {
   "cell_type": "code",
   "execution_count": 54,
   "id": "87f7ffbe-3343-4d4a-91fe-7bc387e7e0b5",
   "metadata": {},
   "outputs": [
    {
     "data": {
      "text/plain": [
       "array([ 1,  2,  3,  4,  5,  6,  7,  8,  9, 10])"
      ]
     },
     "execution_count": 54,
     "metadata": {},
     "output_type": "execute_result"
    }
   ],
   "source": [
    "np.array(list)"
   ]
  },
  {
   "cell_type": "code",
   "execution_count": 55,
   "id": "0b689665-9c3b-4a51-9001-dfdc29329798",
   "metadata": {},
   "outputs": [],
   "source": [
    "a =np.array(list)"
   ]
  },
  {
   "cell_type": "code",
   "execution_count": 56,
   "id": "6abed145-ab07-40eb-8b40-e6a28a448639",
   "metadata": {},
   "outputs": [
    {
     "data": {
      "text/plain": [
       "numpy.ndarray"
      ]
     },
     "execution_count": 56,
     "metadata": {},
     "output_type": "execute_result"
    }
   ],
   "source": [
    "type(a)"
   ]
  },
  {
   "cell_type": "code",
   "execution_count": 57,
   "id": "ec8eb9f5-ea66-4aa8-bc09-714f11ecd43c",
   "metadata": {},
   "outputs": [
    {
     "data": {
      "text/plain": [
       "array([ 4,  8, 12, 16, 20, 24, 28, 32, 36, 40])"
      ]
     },
     "execution_count": 57,
     "metadata": {},
     "output_type": "execute_result"
    }
   ],
   "source": [
    "a*4"
   ]
  },
  {
   "cell_type": "code",
   "execution_count": 58,
   "id": "91a6b092-57e8-40c7-9c93-b41b89b8abe6",
   "metadata": {},
   "outputs": [
    {
     "data": {
      "text/plain": [
       "[1, 2, 3, 4, 5, 1, 2, 3, 4, 5, 1, 2, 3, 4, 5]"
      ]
     },
     "execution_count": 58,
     "metadata": {},
     "output_type": "execute_result"
    }
   ],
   "source": [
    "numberlist*3"
   ]
  },
  {
   "cell_type": "code",
   "execution_count": 59,
   "id": "66dda4c1-80e8-44b3-82cb-55ef451e9f41",
   "metadata": {},
   "outputs": [
    {
     "data": {
      "text/plain": [
       "(10,)"
      ]
     },
     "execution_count": 59,
     "metadata": {},
     "output_type": "execute_result"
    }
   ],
   "source": [
    "a.shape"
   ]
  },
  {
   "cell_type": "code",
   "execution_count": 62,
   "id": "ccbf6647-99f9-47f8-81f3-d8d74a0e6230",
   "metadata": {},
   "outputs": [],
   "source": [
    "b= np.array([[1,2,3],[4,5,6]]) #List 2"
   ]
  },
  {
   "cell_type": "code",
   "execution_count": 64,
   "id": "850e7e5f-4efb-4a66-a911-7514bcaa9edd",
   "metadata": {},
   "outputs": [
    {
     "data": {
      "text/plain": [
       "(2, 3)"
      ]
     },
     "execution_count": 64,
     "metadata": {},
     "output_type": "execute_result"
    }
   ],
   "source": [
    "b.shape"
   ]
  },
  {
   "cell_type": "code",
   "execution_count": 65,
   "id": "57d66480-de4c-4b50-aeab-b7ac3a43e05f",
   "metadata": {},
   "outputs": [],
   "source": [
    "#3D array"
   ]
  },
  {
   "cell_type": "code",
   "execution_count": 69,
   "id": "3e726503-430a-4703-946f-d451786cacf3",
   "metadata": {},
   "outputs": [],
   "source": [
    "c = np.array([[1,2,3],[4,5,6,],[7,8,9]])"
   ]
  },
  {
   "cell_type": "code",
   "execution_count": 67,
   "id": "e67ded41-def0-46d5-bc6d-d5eb2ef97785",
   "metadata": {},
   "outputs": [
    {
     "data": {
      "text/plain": [
       "(3, 3)"
      ]
     },
     "execution_count": 67,
     "metadata": {},
     "output_type": "execute_result"
    }
   ],
   "source": [
    "c.shape"
   ]
  },
  {
   "cell_type": "code",
   "execution_count": 70,
   "id": "199372e2-d435-4389-9fdb-9bb482fff85d",
   "metadata": {},
   "outputs": [
    {
     "data": {
      "text/plain": [
       "array([1, 2, 3])"
      ]
     },
     "execution_count": 70,
     "metadata": {},
     "output_type": "execute_result"
    }
   ],
   "source": [
    "c[0]"
   ]
  },
  {
   "cell_type": "code",
   "execution_count": 71,
   "id": "ac42e224-1f94-468e-aff4-cba7e2853efb",
   "metadata": {},
   "outputs": [
    {
     "ename": "IndexError",
     "evalue": "index 3 is out of bounds for axis 0 with size 3",
     "output_type": "error",
     "traceback": [
      "\u001b[1;31m---------------------------------------------------------------------------\u001b[0m",
      "\u001b[1;31mIndexError\u001b[0m                                Traceback (most recent call last)",
      "Cell \u001b[1;32mIn[71], line 1\u001b[0m\n\u001b[1;32m----> 1\u001b[0m c[\u001b[38;5;241m0\u001b[39m][\u001b[38;5;241m3\u001b[39m]\n",
      "\u001b[1;31mIndexError\u001b[0m: index 3 is out of bounds for axis 0 with size 3"
     ]
    }
   ],
   "source": [
    "c[0][3]"
   ]
  },
  {
   "cell_type": "code",
   "execution_count": 72,
   "id": "d7c538cf-731d-4ce7-8d31-e4d48dd0a1a9",
   "metadata": {},
   "outputs": [
    {
     "data": {
      "text/plain": [
       "3"
      ]
     },
     "execution_count": 72,
     "metadata": {},
     "output_type": "execute_result"
    }
   ],
   "source": [
    "c[0][2]"
   ]
  },
  {
   "cell_type": "code",
   "execution_count": 73,
   "id": "fa77186a-2df2-4e6c-ba72-fa16264bc0ca",
   "metadata": {},
   "outputs": [
    {
     "data": {
      "text/plain": [
       "array([[1, 2, 3],\n",
       "       [7, 8, 9]])"
      ]
     },
     "execution_count": 73,
     "metadata": {},
     "output_type": "execute_result"
    }
   ],
   "source": [
    "c[0:3:2]"
   ]
  },
  {
   "cell_type": "code",
   "execution_count": 75,
   "id": "19209ac1-9451-4c47-822e-abfacbe55c5b",
   "metadata": {},
   "outputs": [
    {
     "data": {
      "text/plain": [
       "array([[1, 4, 7],\n",
       "       [2, 5, 8],\n",
       "       [3, 6, 9]])"
      ]
     },
     "execution_count": 75,
     "metadata": {},
     "output_type": "execute_result"
    }
   ],
   "source": [
    "c.transpose()"
   ]
  },
  {
   "cell_type": "code",
   "execution_count": 76,
   "id": "28e33694-c06c-4b29-aa16-5052896645f0",
   "metadata": {},
   "outputs": [
    {
     "data": {
      "text/plain": [
       "array([[1, 2, 3],\n",
       "       [4, 5, 6],\n",
       "       [7, 8, 9]])"
      ]
     },
     "execution_count": 76,
     "metadata": {},
     "output_type": "execute_result"
    }
   ],
   "source": [
    "np.sort(c,axis=0)"
   ]
  },
  {
   "cell_type": "code",
   "execution_count": null,
   "id": "7ce03065-c22e-401c-8347-15e94ea59b13",
   "metadata": {},
   "outputs": [],
   "source": [
    "#Array Create"
   ]
  },
  {
   "cell_type": "code",
   "execution_count": 78,
   "id": "ce40c322-9b45-4350-b9f5-0684fc5eb044",
   "metadata": {},
   "outputs": [],
   "source": [
    "f = np.full((4,4),'abc')"
   ]
  },
  {
   "cell_type": "code",
   "execution_count": 79,
   "id": "fc393221-22f5-4477-93c1-5470101bd795",
   "metadata": {},
   "outputs": [
    {
     "data": {
      "text/plain": [
       "numpy.ndarray"
      ]
     },
     "execution_count": 79,
     "metadata": {},
     "output_type": "execute_result"
    }
   ],
   "source": [
    "type(f)"
   ]
  },
  {
   "cell_type": "code",
   "execution_count": 80,
   "id": "5e5f0f24-54d6-44b4-be47-058ee077c5fc",
   "metadata": {},
   "outputs": [
    {
     "data": {
      "text/plain": [
       "array([['abc', 'abc', 'abc', 'abc'],\n",
       "       ['abc', 'abc', 'abc', 'abc'],\n",
       "       ['abc', 'abc', 'abc', 'abc'],\n",
       "       ['abc', 'abc', 'abc', 'abc']], dtype='<U3')"
      ]
     },
     "execution_count": 80,
     "metadata": {},
     "output_type": "execute_result"
    }
   ],
   "source": [
    "f"
   ]
  },
  {
   "cell_type": "code",
   "execution_count": 82,
   "id": "94ac0f7c-a41d-48d6-9dbc-fbc7a923223d",
   "metadata": {},
   "outputs": [],
   "source": [
    "listrange = np.arange(0,10,1)"
   ]
  },
  {
   "cell_type": "code",
   "execution_count": 85,
   "id": "22c617f6-1741-4c5a-af77-990586258716",
   "metadata": {},
   "outputs": [
    {
     "ename": "TypeError",
     "evalue": "'list' object is not callable",
     "output_type": "error",
     "traceback": [
      "\u001b[1;31m---------------------------------------------------------------------------\u001b[0m",
      "\u001b[1;31mTypeError\u001b[0m                                 Traceback (most recent call last)",
      "Cell \u001b[1;32mIn[85], line 1\u001b[0m\n\u001b[1;32m----> 1\u001b[0m \u001b[38;5;28mlist\u001b[39m(listrange \u001b[38;5;241m*\u001b[39m\u001b[38;5;241m2\u001b[39m)\n",
      "\u001b[1;31mTypeError\u001b[0m: 'list' object is not callable"
     ]
    }
   ],
   "source": [
    "list(listrange *2)"
   ]
  },
  {
   "cell_type": "code",
   "execution_count": 88,
   "id": "6d765742-6824-44f9-8782-f9e6394556f9",
   "metadata": {},
   "outputs": [],
   "source": [
    "l=np.linspace(0,10,10)"
   ]
  },
  {
   "cell_type": "code",
   "execution_count": 87,
   "id": "a893f24f-acde-4ef2-876e-63350ea2d4fb",
   "metadata": {},
   "outputs": [
    {
     "data": {
      "text/plain": [
       "array([ 1,  2,  3,  4,  5,  6,  7,  8,  9, 10])"
      ]
     },
     "execution_count": 87,
     "metadata": {},
     "output_type": "execute_result"
    }
   ],
   "source": [
    "a"
   ]
  },
  {
   "cell_type": "code",
   "execution_count": 89,
   "id": "8615972c-a7fd-4b13-bb9a-7d049372bb49",
   "metadata": {},
   "outputs": [
    {
     "data": {
      "text/plain": [
       "array([ 0.        ,  1.11111111,  2.22222222,  3.33333333,  4.44444444,\n",
       "        5.55555556,  6.66666667,  7.77777778,  8.88888889, 10.        ])"
      ]
     },
     "execution_count": 89,
     "metadata": {},
     "output_type": "execute_result"
    }
   ],
   "source": [
    "l"
   ]
  },
  {
   "cell_type": "code",
   "execution_count": 91,
   "id": "efd634f6-0c78-4f26-8905-95801c6a4d95",
   "metadata": {},
   "outputs": [
    {
     "data": {
      "text/plain": [
       "array([ 5.55555556,  6.66666667,  7.77777778,  8.88888889, 10.        ])"
      ]
     },
     "execution_count": 91,
     "metadata": {},
     "output_type": "execute_result"
    }
   ],
   "source": [
    "l[l>5]"
   ]
  },
  {
   "cell_type": "code",
   "execution_count": 92,
   "id": "d5527f7d-0c24-4f3d-8889-257d87431bb4",
   "metadata": {},
   "outputs": [
    {
     "data": {
      "text/plain": [
       "array([[4, 6, 7],\n",
       "       [7, 3, 6],\n",
       "       [6, 4, 7]])"
      ]
     },
     "execution_count": 92,
     "metadata": {},
     "output_type": "execute_result"
    }
   ],
   "source": [
    "np.random.randint(0,10,(3,3))"
   ]
  },
  {
   "cell_type": "markdown",
   "id": "e6a11c87-f4f5-4f7b-b651-06cbd5f1a5b8",
   "metadata": {},
   "source": [
    "# What is Pandas"
   ]
  },
  {
   "cell_type": "code",
   "execution_count": 93,
   "id": "f2c3f10b-cdc4-40d1-abca-53c6e51c9cd6",
   "metadata": {},
   "outputs": [],
   "source": [
    "#Two Type of Pandas\n",
    "#Series ,dataframe\n",
    "\n",
    "#look like excel ==> row,column(index)\n",
    "#input / output\n",
    "#filter Date\n",
    "#Data Cleaning\n",
    "#Pivot\n",
    "#Aggregation \n",
    "#Group by\n",
    "#Join\n"
   ]
  },
  {
   "cell_type": "code",
   "execution_count": 95,
   "id": "11191a8a-8189-4345-b09f-78785c48a5eb",
   "metadata": {},
   "outputs": [],
   "source": [
    "s = pd.Series(data=[100,200,300],index=['a','b','c'])"
   ]
  },
  {
   "cell_type": "code",
   "execution_count": 96,
   "id": "a76ffda0-a12a-409f-b733-74e9805e6d0d",
   "metadata": {},
   "outputs": [
    {
     "data": {
      "text/plain": [
       "300"
      ]
     },
     "execution_count": 96,
     "metadata": {},
     "output_type": "execute_result"
    }
   ],
   "source": [
    "s[\"c\"]"
   ]
  },
  {
   "cell_type": "code",
   "execution_count": 97,
   "id": "4a112693-9c61-4318-88f9-7952e8e1beff",
   "metadata": {},
   "outputs": [
    {
     "data": {
      "text/plain": [
       "pandas.core.series.Series"
      ]
     },
     "execution_count": 97,
     "metadata": {},
     "output_type": "execute_result"
    }
   ],
   "source": [
    "type(s)"
   ]
  },
  {
   "cell_type": "code",
   "execution_count": 98,
   "id": "9716ff94-3a6a-48d5-bc86-bbfe30d8ec7b",
   "metadata": {},
   "outputs": [],
   "source": [
    "dict1 = {\n",
    "    'apple':100,\n",
    "    'orange':120,\n",
    "    'mango':150\n",
    "}"
   ]
  },
  {
   "cell_type": "code",
   "execution_count": 101,
   "id": "3cd999c7-f8d9-4392-99b7-115bf51e6f19",
   "metadata": {},
   "outputs": [
    {
     "data": {
      "text/plain": [
       "apple     100\n",
       "orange    120\n",
       "mango     150\n",
       "dtype: int64"
      ]
     },
     "execution_count": 101,
     "metadata": {},
     "output_type": "execute_result"
    }
   ],
   "source": [
    "pd.Series(data = dict1.values(),index=dict1.keys())"
   ]
  },
  {
   "cell_type": "code",
   "execution_count": 103,
   "id": "bcabfa16-c860-448b-a6b0-1e54c971a081",
   "metadata": {},
   "outputs": [
    {
     "data": {
      "text/plain": [
       "dict_values([100, 120, 150])"
      ]
     },
     "execution_count": 103,
     "metadata": {},
     "output_type": "execute_result"
    }
   ],
   "source": [
    "dict1.values()"
   ]
  },
  {
   "cell_type": "code",
   "execution_count": 104,
   "id": "34b601fd-9e74-45d0-8d1d-c10f3cc278f6",
   "metadata": {},
   "outputs": [
    {
     "data": {
      "text/plain": [
       "dict_keys(['apple', 'orange', 'mango'])"
      ]
     },
     "execution_count": 104,
     "metadata": {},
     "output_type": "execute_result"
    }
   ],
   "source": [
    "dict1.keys()"
   ]
  },
  {
   "cell_type": "code",
   "execution_count": 105,
   "id": "84e29b9e-4d63-408e-a006-d404b56b0fa6",
   "metadata": {},
   "outputs": [],
   "source": [
    "data1=[100,200,300]\n",
    "index1=['apple','mango','orange']\n",
    "col=['price']"
   ]
  },
  {
   "cell_type": "code",
   "execution_count": 107,
   "id": "996e9221-a0f8-4af7-afd3-45b2e8fcb7a6",
   "metadata": {},
   "outputs": [],
   "source": [
    "df = pd.DataFrame(data=data1,index=index1,columns=col)"
   ]
  },
  {
   "cell_type": "code",
   "execution_count": 108,
   "id": "7099c4c3-1e43-49e1-9209-3232773fa095",
   "metadata": {},
   "outputs": [],
   "source": [
    "df.to_csv('first.csv')"
   ]
  },
  {
   "cell_type": "code",
   "execution_count": 109,
   "id": "bcc4654d-4c25-4950-aa11-38f5f46c64da",
   "metadata": {},
   "outputs": [
    {
     "data": {
      "text/html": [
       "<div>\n",
       "<style scoped>\n",
       "    .dataframe tbody tr th:only-of-type {\n",
       "        vertical-align: middle;\n",
       "    }\n",
       "\n",
       "    .dataframe tbody tr th {\n",
       "        vertical-align: top;\n",
       "    }\n",
       "\n",
       "    .dataframe thead th {\n",
       "        text-align: right;\n",
       "    }\n",
       "</style>\n",
       "<table border=\"1\" class=\"dataframe\">\n",
       "  <thead>\n",
       "    <tr style=\"text-align: right;\">\n",
       "      <th></th>\n",
       "      <th>price</th>\n",
       "    </tr>\n",
       "  </thead>\n",
       "  <tbody>\n",
       "    <tr>\n",
       "      <th>apple</th>\n",
       "      <td>100</td>\n",
       "    </tr>\n",
       "    <tr>\n",
       "      <th>mango</th>\n",
       "      <td>200</td>\n",
       "    </tr>\n",
       "    <tr>\n",
       "      <th>orange</th>\n",
       "      <td>300</td>\n",
       "    </tr>\n",
       "  </tbody>\n",
       "</table>\n",
       "</div>"
      ],
      "text/plain": [
       "        price\n",
       "apple     100\n",
       "mango     200\n",
       "orange    300"
      ]
     },
     "execution_count": 109,
     "metadata": {},
     "output_type": "execute_result"
    }
   ],
   "source": [
    "df"
   ]
  },
  {
   "cell_type": "code",
   "execution_count": 110,
   "id": "39968851-0ac1-4297-826a-37f424158475",
   "metadata": {},
   "outputs": [],
   "source": [
    "df.to_csv('first.csv')"
   ]
  },
  {
   "cell_type": "code",
   "execution_count": 123,
   "id": "2ae875e6-4bde-4c9d-a94b-eb311fd3cbdb",
   "metadata": {},
   "outputs": [],
   "source": [
    "data2=[[10,20,30],[40,50,60],[70,80,90]]\n"
   ]
  },
  {
   "cell_type": "code",
   "execution_count": 124,
   "id": "e1e1898c-9973-4bd6-b5d8-9dd242271b35",
   "metadata": {},
   "outputs": [],
   "source": [
    "index2=['apple','mango','orange']"
   ]
  },
  {
   "cell_type": "code",
   "execution_count": 125,
   "id": "abff9571-2fde-4532-8ca0-108c64985ea7",
   "metadata": {},
   "outputs": [],
   "source": [
    "col2=['2012','2013','2014']"
   ]
  },
  {
   "cell_type": "code",
   "execution_count": 126,
   "id": "0f88935e-8e88-4afb-99c8-fee345c03942",
   "metadata": {},
   "outputs": [],
   "source": [
    "df2= pd.DataFrame(data=data2,index=index2,columns=col2)"
   ]
  },
  {
   "cell_type": "code",
   "execution_count": 127,
   "id": "a618b24a-a978-4f7b-a367-7ae4ec8a340f",
   "metadata": {},
   "outputs": [
    {
     "data": {
      "text/html": [
       "<div>\n",
       "<style scoped>\n",
       "    .dataframe tbody tr th:only-of-type {\n",
       "        vertical-align: middle;\n",
       "    }\n",
       "\n",
       "    .dataframe tbody tr th {\n",
       "        vertical-align: top;\n",
       "    }\n",
       "\n",
       "    .dataframe thead th {\n",
       "        text-align: right;\n",
       "    }\n",
       "</style>\n",
       "<table border=\"1\" class=\"dataframe\">\n",
       "  <thead>\n",
       "    <tr style=\"text-align: right;\">\n",
       "      <th></th>\n",
       "      <th>2012</th>\n",
       "      <th>2013</th>\n",
       "      <th>2014</th>\n",
       "    </tr>\n",
       "  </thead>\n",
       "  <tbody>\n",
       "    <tr>\n",
       "      <th>apple</th>\n",
       "      <td>10</td>\n",
       "      <td>20</td>\n",
       "      <td>30</td>\n",
       "    </tr>\n",
       "    <tr>\n",
       "      <th>mango</th>\n",
       "      <td>40</td>\n",
       "      <td>50</td>\n",
       "      <td>60</td>\n",
       "    </tr>\n",
       "    <tr>\n",
       "      <th>orange</th>\n",
       "      <td>70</td>\n",
       "      <td>80</td>\n",
       "      <td>90</td>\n",
       "    </tr>\n",
       "  </tbody>\n",
       "</table>\n",
       "</div>"
      ],
      "text/plain": [
       "        2012  2013  2014\n",
       "apple     10    20    30\n",
       "mango     40    50    60\n",
       "orange    70    80    90"
      ]
     },
     "execution_count": 127,
     "metadata": {},
     "output_type": "execute_result"
    }
   ],
   "source": [
    "df2"
   ]
  },
  {
   "cell_type": "code",
   "execution_count": 128,
   "id": "b34c06a2-2d36-4285-bef5-478cb9f587b4",
   "metadata": {},
   "outputs": [],
   "source": [
    "df2['total']=df2['2012']+df2['2013']+df2['2014']"
   ]
  },
  {
   "cell_type": "code",
   "execution_count": 129,
   "id": "220d1893-6b71-40db-963a-006602492eee",
   "metadata": {},
   "outputs": [
    {
     "data": {
      "text/html": [
       "<div>\n",
       "<style scoped>\n",
       "    .dataframe tbody tr th:only-of-type {\n",
       "        vertical-align: middle;\n",
       "    }\n",
       "\n",
       "    .dataframe tbody tr th {\n",
       "        vertical-align: top;\n",
       "    }\n",
       "\n",
       "    .dataframe thead th {\n",
       "        text-align: right;\n",
       "    }\n",
       "</style>\n",
       "<table border=\"1\" class=\"dataframe\">\n",
       "  <thead>\n",
       "    <tr style=\"text-align: right;\">\n",
       "      <th></th>\n",
       "      <th>2012</th>\n",
       "      <th>2013</th>\n",
       "      <th>2014</th>\n",
       "      <th>total</th>\n",
       "    </tr>\n",
       "  </thead>\n",
       "  <tbody>\n",
       "    <tr>\n",
       "      <th>apple</th>\n",
       "      <td>10</td>\n",
       "      <td>20</td>\n",
       "      <td>30</td>\n",
       "      <td>60</td>\n",
       "    </tr>\n",
       "    <tr>\n",
       "      <th>mango</th>\n",
       "      <td>40</td>\n",
       "      <td>50</td>\n",
       "      <td>60</td>\n",
       "      <td>150</td>\n",
       "    </tr>\n",
       "    <tr>\n",
       "      <th>orange</th>\n",
       "      <td>70</td>\n",
       "      <td>80</td>\n",
       "      <td>90</td>\n",
       "      <td>240</td>\n",
       "    </tr>\n",
       "  </tbody>\n",
       "</table>\n",
       "</div>"
      ],
      "text/plain": [
       "        2012  2013  2014  total\n",
       "apple     10    20    30     60\n",
       "mango     40    50    60    150\n",
       "orange    70    80    90    240"
      ]
     },
     "execution_count": 129,
     "metadata": {},
     "output_type": "execute_result"
    }
   ],
   "source": [
    "df2"
   ]
  },
  {
   "cell_type": "code",
   "execution_count": 130,
   "id": "995549f1-d28c-42f5-a160-068ca1097b17",
   "metadata": {},
   "outputs": [
    {
     "data": {
      "text/plain": [
       "apple     10\n",
       "mango     40\n",
       "orange    70\n",
       "Name: 2012, dtype: int64"
      ]
     },
     "execution_count": 130,
     "metadata": {},
     "output_type": "execute_result"
    }
   ],
   "source": [
    "df2['2012']"
   ]
  },
  {
   "cell_type": "code",
   "execution_count": 131,
   "id": "795382b5-9a8a-4af5-9d28-51bca0df554b",
   "metadata": {},
   "outputs": [
    {
     "data": {
      "text/plain": [
       "apple      60\n",
       "mango     150\n",
       "orange    240\n",
       "Name: total, dtype: int64"
      ]
     },
     "execution_count": 131,
     "metadata": {},
     "output_type": "execute_result"
    }
   ],
   "source": [
    "df2['total']"
   ]
  },
  {
   "cell_type": "code",
   "execution_count": 132,
   "id": "72e48de5-8a16-4b1c-95aa-9f5e785fece4",
   "metadata": {},
   "outputs": [
    {
     "data": {
      "text/plain": [
       "2012     10\n",
       "2013     20\n",
       "2014     30\n",
       "total    60\n",
       "Name: apple, dtype: int64"
      ]
     },
     "execution_count": 132,
     "metadata": {},
     "output_type": "execute_result"
    }
   ],
   "source": [
    "df2.iloc[0]"
   ]
  },
  {
   "cell_type": "code",
   "execution_count": 133,
   "id": "cceced0d-334b-47c5-a257-287fcd3f3162",
   "metadata": {},
   "outputs": [
    {
     "name": "stdout",
     "output_type": "stream",
     "text": [
      " Volume in drive C is OS\n",
      " Volume Serial Number is D215-09A5\n",
      "\n",
      " Directory of C:\\Users\\PyaePhyoAye\n",
      "\n",
      "07/28/2024  05:51 PM    <DIR>          .\n",
      "02/05/2024  03:07 PM    <DIR>          ..\n",
      "07/13/2024  04:18 PM    <DIR>          .anaconda\n",
      "06/08/2024  05:28 PM                12 .bash_history\n",
      "07/28/2024  05:53 PM    <DIR>          .conda\n",
      "07/13/2024  04:19 PM                25 .condarc\n",
      "07/13/2024  04:18 PM    <DIR>          .continuum\n",
      "06/08/2024  07:11 PM               161 .gitconfig\n",
      "07/28/2024  05:50 PM    <DIR>          .ipynb_checkpoints\n",
      "07/13/2024  04:47 PM    <DIR>          .ipython\n",
      "07/14/2024  04:04 PM    <DIR>          .jupyter\n",
      "06/22/2024  06:13 PM                20 .lesshst\n",
      "06/08/2024  09:57 PM    <DIR>          .ssh\n",
      "06/08/2024  07:12 PM               689 .viminfo\n",
      "07/13/2024  04:18 PM    <DIR>          anaconda3\n",
      "02/05/2024  03:07 PM    <DIR>          Contacts\n",
      "07/28/2024  05:49 PM            64,051 dataframe_pandas.ipynb\n",
      "06/15/2024  09:20 PM    <DIR>          Desktop\n",
      "07/13/2024  04:18 PM    <DIR>          Documents\n",
      "07/27/2024  08:19 PM    <DIR>          Downloads\n",
      "02/05/2024  03:07 PM    <DIR>          Favorites\n",
      "07/28/2024  05:38 PM                42 first.csv\n",
      "07/28/2024  05:49 PM            64,051 lesson1.ipynb\n",
      "02/05/2024  03:07 PM    <DIR>          Links\n",
      "06/08/2024  09:28 AM    <DIR>          Microsoft\n",
      "02/05/2024  03:07 PM    <DIR>          Music\n",
      "02/07/2024  01:00 PM    <DIR>          OneDrive\n",
      "07/28/2024  03:59 PM    <DIR>          OneDrive - International Union Against Tuberculosis and Lung Disease\n",
      "02/15/2024  01:11 PM    <DIR>          Pictures\n",
      "02/05/2024  03:07 PM    <DIR>          Saved Games\n",
      "02/07/2024  08:51 AM    <DIR>          Searches\n",
      "07/28/2024  05:51 PM            37,764 Untitled.ipynb\n",
      "06/04/2024  09:27 AM    <DIR>          Videos\n",
      "               9 File(s)        166,815 bytes\n",
      "              24 Dir(s)  63,618,985,984 bytes free\n"
     ]
    }
   ],
   "source": [
    "ls"
   ]
  },
  {
   "cell_type": "code",
   "execution_count": 134,
   "id": "378acdd8-4954-4ae8-8233-86fd42c179a4",
   "metadata": {},
   "outputs": [
    {
     "name": "stdout",
     "output_type": "stream",
     "text": [
      "C:\\Users\\PyaePhyoAye\\Downloads\n"
     ]
    }
   ],
   "source": [
    "cd Downloads\\"
   ]
  },
  {
   "cell_type": "code",
   "execution_count": 135,
   "id": "c1816051-375d-498d-b24d-62a2f75f49f9",
   "metadata": {},
   "outputs": [],
   "source": [
    "df2.to_csv('first.csv')"
   ]
  },
  {
   "cell_type": "code",
   "execution_count": null,
   "id": "bf80d550-a4de-4de8-b5c2-efa03e201d6b",
   "metadata": {},
   "outputs": [],
   "source": []
  }
 ],
 "metadata": {
  "kernelspec": {
   "display_name": "Python 3 (ipykernel)",
   "language": "python",
   "name": "python3"
  },
  "language_info": {
   "codemirror_mode": {
    "name": "ipython",
    "version": 3
   },
   "file_extension": ".py",
   "mimetype": "text/x-python",
   "name": "python",
   "nbconvert_exporter": "python",
   "pygments_lexer": "ipython3",
   "version": "3.11.7"
  }
 },
 "nbformat": 4,
 "nbformat_minor": 5
}
